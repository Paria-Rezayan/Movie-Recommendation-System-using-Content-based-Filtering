{
 "cells": [
  {
   "cell_type": "markdown",
   "id": "ca69f8da",
   "metadata": {},
   "source": [
    "# Paria Rezayan\n",
    "# Movie Recommendation System using Content-based Filtering\n",
    "\n",
    "This is a project to build a movie recommendation system using content-based filtering. The dataset used for this project has been taken from https://www.kaggle.com/datasets/thedevastator/imdb-movie-data-from-2006-2016, which consists of 1000 movies and their respective features such as title, genre, description, director, actors, year, runtime, rating, votes, revenue, and metascore."
   ]
  },
  {
   "cell_type": "markdown",
   "id": "71b4de82",
   "metadata": {},
   "source": [
    "# Libraries \n",
    "\n",
    "The following libraries have been imported for this project:\n",
    "\n",
    "1) pandas: for data manipulation and analysis\n",
    "2) matplotlib.pyplot and seaborn: for data visualization\n",
    "3) difflib: for comparing and working with sequences of strings\n",
    "4) sklearn.feature_extraction.text: for converting text into numerical vectors\n",
    "5) sklearn.metrics.pairwise: for computing pairwise similarity scores between samples\n",
    "6) IPython: for displaying outputs in a more user-friendly manner"
   ]
  },
  {
   "cell_type": "code",
   "execution_count": 1,
   "id": "a8a1af89",
   "metadata": {},
   "outputs": [],
   "source": [
    "# importing the necessary libraries\n",
    "import numpy as np \n",
    "import pandas as pd \n",
    "import matplotlib.pyplot as plt\n",
    "import seaborn as sns\n",
    "import difflib \n",
    "from sklearn.feature_extraction.text import TfidfVectorizer\n",
    "from sklearn.metrics.pairwise import cosine_similarity\n",
    "from IPython import *"
   ]
  },
  {
   "cell_type": "markdown",
   "id": "77ac0ca4",
   "metadata": {},
   "source": [
    "# Data Exploration"
   ]
  },
  {
   "cell_type": "code",
   "execution_count": 2,
   "id": "a9d957d3",
   "metadata": {},
   "outputs": [],
   "source": [
    "# loading the data \n",
    "data = pd.read_csv('IMDB-Movie-Data.csv')"
   ]
  },
  {
   "cell_type": "code",
   "execution_count": 3,
   "id": "74e7d9e8",
   "metadata": {},
   "outputs": [
    {
     "data": {
      "text/plain": [
       "(1000, 13)"
      ]
     },
     "execution_count": 3,
     "metadata": {},
     "output_type": "execute_result"
    }
   ],
   "source": [
    "# getting to know the dataset\n",
    "data.shape"
   ]
  },
  {
   "cell_type": "code",
   "execution_count": 4,
   "id": "3f5ed0e4",
   "metadata": {},
   "outputs": [
    {
     "name": "stdout",
     "output_type": "stream",
     "text": [
      "<class 'pandas.core.frame.DataFrame'>\n",
      "RangeIndex: 1000 entries, 0 to 999\n",
      "Data columns (total 13 columns):\n",
      " #   Column              Non-Null Count  Dtype  \n",
      "---  ------              --------------  -----  \n",
      " 0   index               1000 non-null   int64  \n",
      " 1   Rank                1000 non-null   int64  \n",
      " 2   Title               1000 non-null   object \n",
      " 3   Genre               1000 non-null   object \n",
      " 4   Description         1000 non-null   object \n",
      " 5   Director            1000 non-null   object \n",
      " 6   Actors              1000 non-null   object \n",
      " 7   Year                1000 non-null   int64  \n",
      " 8   Runtime (Minutes)   1000 non-null   int64  \n",
      " 9   Rating              1000 non-null   float64\n",
      " 10  Votes               1000 non-null   int64  \n",
      " 11  Revenue (Millions)  872 non-null    float64\n",
      " 12  Metascore           936 non-null    float64\n",
      "dtypes: float64(3), int64(5), object(5)\n",
      "memory usage: 101.7+ KB\n"
     ]
    }
   ],
   "source": [
    "data.info()"
   ]
  },
  {
   "cell_type": "code",
   "execution_count": 5,
   "id": "0a3eda9b",
   "metadata": {},
   "outputs": [
    {
     "data": {
      "text/html": [
       "<div>\n",
       "<style scoped>\n",
       "    .dataframe tbody tr th:only-of-type {\n",
       "        vertical-align: middle;\n",
       "    }\n",
       "\n",
       "    .dataframe tbody tr th {\n",
       "        vertical-align: top;\n",
       "    }\n",
       "\n",
       "    .dataframe thead th {\n",
       "        text-align: right;\n",
       "    }\n",
       "</style>\n",
       "<table border=\"1\" class=\"dataframe\">\n",
       "  <thead>\n",
       "    <tr style=\"text-align: right;\">\n",
       "      <th></th>\n",
       "      <th>index</th>\n",
       "      <th>Rank</th>\n",
       "      <th>Title</th>\n",
       "      <th>Genre</th>\n",
       "      <th>Description</th>\n",
       "      <th>Director</th>\n",
       "      <th>Actors</th>\n",
       "      <th>Year</th>\n",
       "      <th>Runtime (Minutes)</th>\n",
       "      <th>Rating</th>\n",
       "      <th>Votes</th>\n",
       "      <th>Revenue (Millions)</th>\n",
       "      <th>Metascore</th>\n",
       "    </tr>\n",
       "  </thead>\n",
       "  <tbody>\n",
       "    <tr>\n",
       "      <th>0</th>\n",
       "      <td>0</td>\n",
       "      <td>1</td>\n",
       "      <td>Guardians of the Galaxy</td>\n",
       "      <td>Action,Adventure,Sci-Fi</td>\n",
       "      <td>A group of intergalactic criminals are forced ...</td>\n",
       "      <td>James Gunn</td>\n",
       "      <td>Chris Pratt, Vin Diesel, Bradley Cooper, Zoe S...</td>\n",
       "      <td>2014</td>\n",
       "      <td>121</td>\n",
       "      <td>8.1</td>\n",
       "      <td>757074</td>\n",
       "      <td>333.13</td>\n",
       "      <td>76.0</td>\n",
       "    </tr>\n",
       "    <tr>\n",
       "      <th>1</th>\n",
       "      <td>1</td>\n",
       "      <td>2</td>\n",
       "      <td>Prometheus</td>\n",
       "      <td>Adventure,Mystery,Sci-Fi</td>\n",
       "      <td>Following clues to the origin of mankind, a te...</td>\n",
       "      <td>Ridley Scott</td>\n",
       "      <td>Noomi Rapace, Logan Marshall-Green, Michael Fa...</td>\n",
       "      <td>2012</td>\n",
       "      <td>124</td>\n",
       "      <td>7.0</td>\n",
       "      <td>485820</td>\n",
       "      <td>126.46</td>\n",
       "      <td>65.0</td>\n",
       "    </tr>\n",
       "    <tr>\n",
       "      <th>2</th>\n",
       "      <td>2</td>\n",
       "      <td>3</td>\n",
       "      <td>Split</td>\n",
       "      <td>Horror,Thriller</td>\n",
       "      <td>Three girls are kidnapped by a man with a diag...</td>\n",
       "      <td>M. Night Shyamalan</td>\n",
       "      <td>James McAvoy, Anya Taylor-Joy, Haley Lu Richar...</td>\n",
       "      <td>2016</td>\n",
       "      <td>117</td>\n",
       "      <td>7.3</td>\n",
       "      <td>157606</td>\n",
       "      <td>138.12</td>\n",
       "      <td>62.0</td>\n",
       "    </tr>\n",
       "    <tr>\n",
       "      <th>3</th>\n",
       "      <td>3</td>\n",
       "      <td>4</td>\n",
       "      <td>Sing</td>\n",
       "      <td>Animation,Comedy,Family</td>\n",
       "      <td>In a city of humanoid animals, a hustling thea...</td>\n",
       "      <td>Christophe Lourdelet</td>\n",
       "      <td>Matthew McConaughey,Reese Witherspoon, Seth Ma...</td>\n",
       "      <td>2016</td>\n",
       "      <td>108</td>\n",
       "      <td>7.2</td>\n",
       "      <td>60545</td>\n",
       "      <td>270.32</td>\n",
       "      <td>59.0</td>\n",
       "    </tr>\n",
       "    <tr>\n",
       "      <th>4</th>\n",
       "      <td>4</td>\n",
       "      <td>5</td>\n",
       "      <td>Suicide Squad</td>\n",
       "      <td>Action,Adventure,Fantasy</td>\n",
       "      <td>A secret government agency recruits some of th...</td>\n",
       "      <td>David Ayer</td>\n",
       "      <td>Will Smith, Jared Leto, Margot Robbie, Viola D...</td>\n",
       "      <td>2016</td>\n",
       "      <td>123</td>\n",
       "      <td>6.2</td>\n",
       "      <td>393727</td>\n",
       "      <td>325.02</td>\n",
       "      <td>40.0</td>\n",
       "    </tr>\n",
       "  </tbody>\n",
       "</table>\n",
       "</div>"
      ],
      "text/plain": [
       "   index  Rank                    Title                     Genre   \n",
       "0      0     1  Guardians of the Galaxy   Action,Adventure,Sci-Fi  \\\n",
       "1      1     2               Prometheus  Adventure,Mystery,Sci-Fi   \n",
       "2      2     3                    Split           Horror,Thriller   \n",
       "3      3     4                     Sing   Animation,Comedy,Family   \n",
       "4      4     5            Suicide Squad  Action,Adventure,Fantasy   \n",
       "\n",
       "                                         Description              Director   \n",
       "0  A group of intergalactic criminals are forced ...            James Gunn  \\\n",
       "1  Following clues to the origin of mankind, a te...          Ridley Scott   \n",
       "2  Three girls are kidnapped by a man with a diag...    M. Night Shyamalan   \n",
       "3  In a city of humanoid animals, a hustling thea...  Christophe Lourdelet   \n",
       "4  A secret government agency recruits some of th...            David Ayer   \n",
       "\n",
       "                                              Actors  Year  Runtime (Minutes)   \n",
       "0  Chris Pratt, Vin Diesel, Bradley Cooper, Zoe S...  2014                121  \\\n",
       "1  Noomi Rapace, Logan Marshall-Green, Michael Fa...  2012                124   \n",
       "2  James McAvoy, Anya Taylor-Joy, Haley Lu Richar...  2016                117   \n",
       "3  Matthew McConaughey,Reese Witherspoon, Seth Ma...  2016                108   \n",
       "4  Will Smith, Jared Leto, Margot Robbie, Viola D...  2016                123   \n",
       "\n",
       "   Rating   Votes  Revenue (Millions)  Metascore  \n",
       "0     8.1  757074              333.13       76.0  \n",
       "1     7.0  485820              126.46       65.0  \n",
       "2     7.3  157606              138.12       62.0  \n",
       "3     7.2   60545              270.32       59.0  \n",
       "4     6.2  393727              325.02       40.0  "
      ]
     },
     "execution_count": 5,
     "metadata": {},
     "output_type": "execute_result"
    }
   ],
   "source": [
    "data.head()"
   ]
  },
  {
   "cell_type": "code",
   "execution_count": 6,
   "id": "af5b8061",
   "metadata": {},
   "outputs": [
    {
     "data": {
      "text/html": [
       "<div>\n",
       "<style scoped>\n",
       "    .dataframe tbody tr th:only-of-type {\n",
       "        vertical-align: middle;\n",
       "    }\n",
       "\n",
       "    .dataframe tbody tr th {\n",
       "        vertical-align: top;\n",
       "    }\n",
       "\n",
       "    .dataframe thead th {\n",
       "        text-align: right;\n",
       "    }\n",
       "</style>\n",
       "<table border=\"1\" class=\"dataframe\">\n",
       "  <thead>\n",
       "    <tr style=\"text-align: right;\">\n",
       "      <th></th>\n",
       "      <th>index</th>\n",
       "      <th>Rank</th>\n",
       "      <th>Year</th>\n",
       "      <th>Runtime (Minutes)</th>\n",
       "      <th>Rating</th>\n",
       "      <th>Votes</th>\n",
       "      <th>Revenue (Millions)</th>\n",
       "      <th>Metascore</th>\n",
       "    </tr>\n",
       "  </thead>\n",
       "  <tbody>\n",
       "    <tr>\n",
       "      <th>count</th>\n",
       "      <td>1000.000000</td>\n",
       "      <td>1000.000000</td>\n",
       "      <td>1000.000000</td>\n",
       "      <td>1000.000000</td>\n",
       "      <td>1000.000000</td>\n",
       "      <td>1.000000e+03</td>\n",
       "      <td>872.000000</td>\n",
       "      <td>936.000000</td>\n",
       "    </tr>\n",
       "    <tr>\n",
       "      <th>mean</th>\n",
       "      <td>499.500000</td>\n",
       "      <td>500.500000</td>\n",
       "      <td>2012.783000</td>\n",
       "      <td>113.172000</td>\n",
       "      <td>6.723200</td>\n",
       "      <td>1.698083e+05</td>\n",
       "      <td>82.956376</td>\n",
       "      <td>58.985043</td>\n",
       "    </tr>\n",
       "    <tr>\n",
       "      <th>std</th>\n",
       "      <td>288.819436</td>\n",
       "      <td>288.819436</td>\n",
       "      <td>3.205962</td>\n",
       "      <td>18.810908</td>\n",
       "      <td>0.945429</td>\n",
       "      <td>1.887626e+05</td>\n",
       "      <td>103.253540</td>\n",
       "      <td>17.194757</td>\n",
       "    </tr>\n",
       "    <tr>\n",
       "      <th>min</th>\n",
       "      <td>0.000000</td>\n",
       "      <td>1.000000</td>\n",
       "      <td>2006.000000</td>\n",
       "      <td>66.000000</td>\n",
       "      <td>1.900000</td>\n",
       "      <td>6.100000e+01</td>\n",
       "      <td>0.000000</td>\n",
       "      <td>11.000000</td>\n",
       "    </tr>\n",
       "    <tr>\n",
       "      <th>25%</th>\n",
       "      <td>249.750000</td>\n",
       "      <td>250.750000</td>\n",
       "      <td>2010.000000</td>\n",
       "      <td>100.000000</td>\n",
       "      <td>6.200000</td>\n",
       "      <td>3.630900e+04</td>\n",
       "      <td>13.270000</td>\n",
       "      <td>47.000000</td>\n",
       "    </tr>\n",
       "    <tr>\n",
       "      <th>50%</th>\n",
       "      <td>499.500000</td>\n",
       "      <td>500.500000</td>\n",
       "      <td>2014.000000</td>\n",
       "      <td>111.000000</td>\n",
       "      <td>6.800000</td>\n",
       "      <td>1.107990e+05</td>\n",
       "      <td>47.985000</td>\n",
       "      <td>59.500000</td>\n",
       "    </tr>\n",
       "    <tr>\n",
       "      <th>75%</th>\n",
       "      <td>749.250000</td>\n",
       "      <td>750.250000</td>\n",
       "      <td>2016.000000</td>\n",
       "      <td>123.000000</td>\n",
       "      <td>7.400000</td>\n",
       "      <td>2.399098e+05</td>\n",
       "      <td>113.715000</td>\n",
       "      <td>72.000000</td>\n",
       "    </tr>\n",
       "    <tr>\n",
       "      <th>max</th>\n",
       "      <td>999.000000</td>\n",
       "      <td>1000.000000</td>\n",
       "      <td>2016.000000</td>\n",
       "      <td>191.000000</td>\n",
       "      <td>9.000000</td>\n",
       "      <td>1.791916e+06</td>\n",
       "      <td>936.630000</td>\n",
       "      <td>100.000000</td>\n",
       "    </tr>\n",
       "  </tbody>\n",
       "</table>\n",
       "</div>"
      ],
      "text/plain": [
       "             index         Rank         Year  Runtime (Minutes)       Rating   \n",
       "count  1000.000000  1000.000000  1000.000000        1000.000000  1000.000000  \\\n",
       "mean    499.500000   500.500000  2012.783000         113.172000     6.723200   \n",
       "std     288.819436   288.819436     3.205962          18.810908     0.945429   \n",
       "min       0.000000     1.000000  2006.000000          66.000000     1.900000   \n",
       "25%     249.750000   250.750000  2010.000000         100.000000     6.200000   \n",
       "50%     499.500000   500.500000  2014.000000         111.000000     6.800000   \n",
       "75%     749.250000   750.250000  2016.000000         123.000000     7.400000   \n",
       "max     999.000000  1000.000000  2016.000000         191.000000     9.000000   \n",
       "\n",
       "              Votes  Revenue (Millions)   Metascore  \n",
       "count  1.000000e+03          872.000000  936.000000  \n",
       "mean   1.698083e+05           82.956376   58.985043  \n",
       "std    1.887626e+05          103.253540   17.194757  \n",
       "min    6.100000e+01            0.000000   11.000000  \n",
       "25%    3.630900e+04           13.270000   47.000000  \n",
       "50%    1.107990e+05           47.985000   59.500000  \n",
       "75%    2.399098e+05          113.715000   72.000000  \n",
       "max    1.791916e+06          936.630000  100.000000  "
      ]
     },
     "execution_count": 6,
     "metadata": {},
     "output_type": "execute_result"
    }
   ],
   "source": [
    "data.describe()"
   ]
  },
  {
   "cell_type": "code",
   "execution_count": 7,
   "id": "e77756d6",
   "metadata": {},
   "outputs": [
    {
     "data": {
      "text/plain": [
       "index                   int64\n",
       "Rank                    int64\n",
       "Title                  object\n",
       "Genre                  object\n",
       "Description            object\n",
       "Director               object\n",
       "Actors                 object\n",
       "Year                    int64\n",
       "Runtime (Minutes)       int64\n",
       "Rating                float64\n",
       "Votes                   int64\n",
       "Revenue (Millions)    float64\n",
       "Metascore             float64\n",
       "dtype: object"
      ]
     },
     "execution_count": 7,
     "metadata": {},
     "output_type": "execute_result"
    }
   ],
   "source": [
    "# checking for non-numeric data points\n",
    "data.dtypes"
   ]
  },
  {
   "cell_type": "code",
   "execution_count": 8,
   "id": "1ca7a8c9",
   "metadata": {},
   "outputs": [],
   "source": [
    "# selecting relevent features for our content-based recommendation system \n",
    "selected_features = ['Title', 'Genre', 'Description']"
   ]
  },
  {
   "cell_type": "code",
   "execution_count": 9,
   "id": "be9e61a1",
   "metadata": {},
   "outputs": [
    {
     "name": "stdout",
     "output_type": "stream",
     "text": [
      "0\n"
     ]
    }
   ],
   "source": [
    "# cheking for total count of nan values\n",
    "print(data[selected_features].isnull().sum().sum())"
   ]
  },
  {
   "cell_type": "code",
   "execution_count": 10,
   "id": "d5d08850",
   "metadata": {},
   "outputs": [
    {
     "name": "stdout",
     "output_type": "stream",
     "text": [
      "0      Guardians of the Galaxy Action,Adventure,Sci-F...\n",
      "1      Prometheus Adventure,Mystery,Sci-Fi Following ...\n",
      "2      Split Horror,Thriller Three girls are kidnappe...\n",
      "3      Sing Animation,Comedy,Family In a city of huma...\n",
      "4      Suicide Squad Action,Adventure,Fantasy A secre...\n",
      "                             ...                        \n",
      "995    Secret in Their Eyes Crime,Drama,Mystery A tig...\n",
      "996    Hostel: Part II Horror Three American college ...\n",
      "997    Step Up 2: The Streets Drama,Music,Romance Rom...\n",
      "998    Search Party Adventure,Comedy A pair of friend...\n",
      "999    Nine Lives Comedy,Family,Fantasy A stuffy busi...\n",
      "Length: 1000, dtype: object\n"
     ]
    }
   ],
   "source": [
    "# combining the selected features \n",
    "combined_features = data[['Title', 'Genre', 'Description']].apply(lambda x: ' '.join(x), axis=1)\n",
    "print(combined_features)"
   ]
  },
  {
   "cell_type": "code",
   "execution_count": 11,
   "id": "8bf69176",
   "metadata": {},
   "outputs": [
    {
     "name": "stdout",
     "output_type": "stream",
     "text": [
      "  (0, 6024)\t0.25115936025447294\n",
      "  (0, 1304)\t0.2415450902181415\n",
      "  (0, 5577)\t0.2415450902181415\n",
      "  (0, 2350)\t0.12486716808237268\n",
      "  (0, 6227)\t0.23368965962139007\n",
      "  (0, 2122)\t0.3108886612320426\n",
      "  (0, 5403)\t0.2020661696930252\n",
      "  (0, 5772)\t0.19143005927690324\n",
      "  (0, 6376)\t0.2095782870537396\n",
      "  (0, 5769)\t0.12539023032030575\n",
      "  (0, 2271)\t0.1987502583552243\n",
      "  (0, 380)\t0.14933909156708955\n",
      "  (0, 1390)\t0.2714097407069263\n",
      "  (0, 3005)\t0.2714097407069263\n",
      "  (0, 2537)\t0.1739603586438204\n",
      "  (0, 2177)\t0.1341238793599193\n",
      "  (0, 4967)\t0.1341238793599193\n",
      "  (0, 190)\t0.10067380579795737\n",
      "  (0, 159)\t0.09400873685865625\n",
      "  (0, 2392)\t0.2934189605989598\n",
      "  (0, 5687)\t0.10700718085895795\n",
      "  (0, 3990)\t0.1956292089531824\n",
      "  (0, 2547)\t0.2934189605989598\n",
      "  (1, 266)\t0.2384514074750334\n",
      "  (1, 3941)\t0.18869405779984558\n",
      "  :\t:\n",
      "  (998, 5691)\t0.14090659259920557\n",
      "  (998, 2636)\t0.1406085590583855\n",
      "  (998, 1197)\t0.11555056954061664\n",
      "  (998, 6343)\t0.12110646544163163\n",
      "  (998, 4020)\t0.1306552787920351\n",
      "  (998, 5769)\t0.1478835970287896\n",
      "  (998, 190)\t0.11873336933785644\n",
      "  (998, 5687)\t0.06310143450932915\n",
      "  (998, 3990)\t0.07690750980623064\n",
      "  (999, 5452)\t0.36337764084639185\n",
      "  (999, 3922)\t0.3429584381093572\n",
      "  (999, 5857)\t0.3172332850286945\n",
      "  (999, 2972)\t0.28232642738933916\n",
      "  (999, 982)\t0.3002885598783389\n",
      "  (999, 2708)\t0.22069715734071146\n",
      "  (999, 889)\t0.32847078320703654\n",
      "  (999, 747)\t0.27314472283064656\n",
      "  (999, 2126)\t0.16391128604489624\n",
      "  (999, 3389)\t0.21251271211062855\n",
      "  (999, 2715)\t0.10654862044703502\n",
      "  (999, 2119)\t0.3204269647395882\n",
      "  (999, 1197)\t0.11451677350322027\n",
      "  (999, 2211)\t0.1993000607628693\n",
      "  (999, 5687)\t0.06253688503796682\n",
      "  (999, 3990)\t0.07621944155005682\n"
     ]
    }
   ],
   "source": [
    "# vectorizing the text data \n",
    "vectorizer = TfidfVectorizer()\n",
    "feature_vectors = vectorizer.fit_transform(combined_features)\n",
    "print(feature_vectors)"
   ]
  },
  {
   "cell_type": "code",
   "execution_count": 12,
   "id": "ec03ab48",
   "metadata": {},
   "outputs": [],
   "source": [
    "# cosine similarity \n",
    "similarity_score = cosine_similarity(feature_vectors)"
   ]
  },
  {
   "cell_type": "code",
   "execution_count": 13,
   "id": "1b80e079",
   "metadata": {},
   "outputs": [
    {
     "name": "stdout",
     "output_type": "stream",
     "text": [
      "Cosine Similarity of the feature vectors [[1.         0.08996481 0.04292115 ... 0.043895   0.05229416 0.02160264]\n",
      " [0.08996481 1.         0.06504706 ... 0.01175418 0.04185964 0.04015897]\n",
      " [0.04292115 0.06504706 1.         ... 0.01092367 0.0265568  0.00733756]\n",
      " ...\n",
      " [0.043895   0.01175418 0.01092367 ... 1.         0.01460152 0.01447088]\n",
      " [0.05229416 0.04185964 0.0265568  ... 0.01460152 1.         0.02304049]\n",
      " [0.02160264 0.04015897 0.00733756 ... 0.01447088 0.02304049 1.        ]]\n",
      "The shape of the Cosine Similarity (1000, 1000)\n"
     ]
    }
   ],
   "source": [
    "print('Cosine Similarity of the feature vectors', similarity_score)\n",
    "print('The shape of the Cosine Similarity', similarity_score.shape)"
   ]
  },
  {
   "cell_type": "markdown",
   "id": "429a4ac5",
   "metadata": {},
   "source": [
    "* As demonstrated, the dataset has 13 columns and 1000 rows. There are no missing values in the \"Title\", \"Genre\", and \"Description\" columns that were selected for building the content-based recommendation system. I merged the selected features and then transformed them into vectors using TfidfVectorizer to calculate the cosine similarity score between every set of movies."
   ]
  },
  {
   "cell_type": "markdown",
   "id": "cf6da401",
   "metadata": {},
   "source": [
    "# User Input\n",
    "\n",
    "This section pertains to the way users can input their favorite movie title and the system will provide recommendations based on similarities with other movies in the dataset."
   ]
  },
  {
   "cell_type": "code",
   "execution_count": 14,
   "id": "249b9328",
   "metadata": {},
   "outputs": [
    {
     "name": "stdout",
     "output_type": "stream",
     "text": [
      "Please type in the title of your favorite movie:Fight Club\n",
      "Fight Club\n"
     ]
    }
   ],
   "source": [
    "# getting input data from the user \n",
    "user_input = input('Please type in the title of your favorite movie:')\n",
    "print(user_input)"
   ]
  },
  {
   "cell_type": "markdown",
   "id": "9b84b0d3",
   "metadata": {},
   "source": [
    "# Movie Recommendation System Implementation:\n",
    "\n",
    "Subsequently, I should find the best match from the dataset for the input by using cosine similarity to suggest similar movies based on the selected movie."
   ]
  },
  {
   "cell_type": "code",
   "execution_count": 17,
   "id": "8d2eb4cd",
   "metadata": {},
   "outputs": [
    {
     "name": "stdout",
     "output_type": "stream",
     "text": [
      "['Guardians of the Galaxy', 'Prometheus', 'Split', 'Sing', 'Suicide Squad', 'The Great Wall', 'La La Land', 'Mindhorn', 'The Lost City of Z', 'Passengers', 'Fantastic Beasts and Where to Find Them', 'Hidden Figures', 'Rogue One', 'Moana', 'Colossal', 'The Secret Life of Pets', 'Hacksaw Ridge', 'Jason Bourne', 'Lion', 'Arrival', 'Gold', 'Manchester by the Sea', 'Hounds of Love', 'Trolls', 'Independence Day: Resurgence', 'Paris pieds nus', 'Bahubali: The Beginning', 'Dead Awake', 'Bad Moms', \"Assassin's Creed\", 'Why Him?', 'Nocturnal Animals', 'X-Men: Apocalypse', 'Deadpool', 'Resident Evil: The Final Chapter', 'Captain America: Civil War', 'Interstellar', 'Doctor Strange', 'The Magnificent Seven', '5- 25- 77', 'Sausage Party', 'Moonlight', \"Don't Fuck in the Woods\", 'The Founder', 'Lowriders', 'Pirates of the Caribbean: On Stranger Tides', 'Miss Sloane', 'Fallen', 'Star Trek Beyond', 'The Last Face', 'Star Wars: Episode VII - The Force Awakens', 'Underworld: Blood Wars', \"Mother's Day\", 'John Wick', 'The Dark Knight', 'Silence', \"Don't Breathe\", 'Me Before You', 'Their Finest', 'Sully', 'Batman v Superman: Dawn of Justice', 'The Autopsy of Jane Doe', 'The Girl on the Train', 'Fifty Shades of Grey', 'The Prestige', 'Kingsman: The Secret Service', 'Patriots Day', 'Mad Max: Fury Road', 'Wakefield', 'Deepwater Horizon', 'The Promise', 'Allied', 'A Monster Calls', 'Collateral Beauty', 'Zootopia', \"Pirates of the Caribbean: At World's End\", 'The Avengers', 'Inglourious Basterds', \"Pirates of the Caribbean: Dead Man's Chest\", 'Ghostbusters', 'Inception', 'Captain Fantastic', 'The Wolf of Wall Street', 'Gone Girl', 'Furious Seven', 'Jurassic World', 'Live by Night', 'Avatar', 'The Hateful Eight', 'The Accountant', 'Prisoners', 'Warcraft', 'The Help', 'War Dogs', 'Avengers: Age of Ultron', 'The Nice Guys', 'Kimi no na wa', 'The Void', 'Personal Shopper', 'The Departed', 'Legend', 'Thor', 'The Martian', 'Contratiempo', 'The Man from U.N.C.L.E.', 'Hell or High Water', 'The Comedian', 'The Legend of Tarzan', 'All We Had', 'Ex Machina', 'The Belko Experiment', '12 Years a Slave', 'The Bad Batch', '300', 'Harry Potter and the Deathly Hallows: Part 2', 'Office Christmas Party', 'The Neon Demon', 'Dangal', '10 Cloverfield Lane', 'Finding Dory', \"Miss Peregrine's Home for Peculiar Children\", 'Divergent', 'Mike and Dave Need Wedding Dates', 'Boyka: Undisputed IV', 'The Dark Knight Rises', 'The Jungle Book', 'Transformers: Age of Extinction', 'Nerve', 'Mamma Mia!', 'The Revenant', 'Fences', 'Into the Woods', 'The Shallows', 'Whiplash', 'Furious 6', 'The Place Beyond the Pines', 'No Country for Old Men', 'The Great Gatsby', 'Shutter Island', 'Brimstone', 'Star Trek', 'Diary of a Wimpy Kid', 'The Big Short', 'Room', 'Django Unchained', 'Ah-ga-ssi', 'The Edge of Seventeen', 'Watchmen', 'Superbad', 'Inferno', 'The BFG', 'The Hunger Games', 'White Girl', 'Sicario', 'Twin Peaks: The Missing Pieces', 'Aliens vs Predator - Requiem', 'Pacific Rim', 'Crazy, Stupid, Love.', 'Scott Pilgrim vs. the World', 'Hot Fuzz', 'Mine', 'Free Fire', 'X-Men: Days of Future Past', 'Jack Reacher: Never Go Back', 'Casino Royale', 'Twilight', 'Now You See Me 2', 'Woman in Gold', '13 Hours', 'Spectre', 'Nightcrawler', 'Kubo and the Two Strings', 'Beyond the Gates', 'Her', 'Frozen', 'Tomorrowland', 'Dawn of the Planet of the Apes', 'Tropic Thunder', 'The Conjuring 2', 'Ant-Man', \"Bridget Jones's Baby\", 'The VVitch: A New-England Folktale', 'Cinderella', 'Realive', 'Forushande', 'Love', \"Billy Lynn's Long Halftime Walk\", 'Crimson Peak', 'Drive', 'Trainwreck', 'The Light Between Oceans', 'Below Her Mouth', 'Spotlight', 'Morgan', 'Warrior', 'Captain America: The First Avenger', 'Hacker', 'Into the Wild', 'The Imitation Game', 'Central Intelligence', 'Edge of Tomorrow', 'A Cure for Wellness', 'Snowden', 'Iron Man', 'Allegiant', 'X: First Class', 'Raw (II)', 'Paterson', 'Bridesmaids', 'The Girl with All the Gifts', 'San Andreas', 'Spring Breakers', 'Transformers', 'Old Boy', 'Thor: The Dark World', 'Gods of Egypt', 'Captain America: The Winter Soldier', 'Monster Trucks', 'A Dark Song', 'Kick-Ass', 'Hardcore Henry', 'Cars', 'It Follows', 'The Girl with the Dragon Tattoo', \"We're the Millers\", 'American Honey', 'The Lobster', 'Predators', 'Maleficent', 'Rupture', \"Pan's Labyrinth\", 'A Kind of Murder', 'Apocalypto', 'Mission: Impossible - Rogue Nation', \"The Huntsman: Winter's War\", 'The Perks of Being a Wallflower', 'Jackie', 'The Disappointments Room', 'The Grand Budapest Hotel', 'The Host', 'Fury', 'Inside Out', 'Rock Dog', 'Terminator Genisys', 'Percy Jackson & the Olympians: The Lightning Thief', 'Les Misérables', 'Children of Men', '20th Century Women', 'Spy', 'The Intouchables', 'Bonjour Anne', 'Kynodontas', 'Straight Outta Compton', 'The Amazing Spider-Man 2', 'The Conjuring', 'The Hangover', 'Battleship', 'Rise of the Planet of the Apes', 'Lights Out', 'Norman: The Moderate Rise and Tragic Fall of a New York Fixer', 'Birdman or (The Unexpected Virtue of Ignorance)', 'Black Swan', 'Dear White People', 'Nymphomaniac: Vol. I', 'Teenage Mutant Ninja Turtles: Out of the Shadows', 'Knock Knock', 'Dirty Grandpa', 'Cloud Atlas', 'X-Men Origins: Wolverine', 'Satanic', 'Skyfall', 'The Hobbit: An Unexpected Journey', '21 Jump Street', 'Sing Street', 'Ballerina', 'Oblivion', '22 Jump Street', 'Zodiac', 'Everybody Wants Some!!', 'Iron Man Three', 'Now You See Me', 'Sherlock Holmes', 'Death Proof', 'The Danish Girl', 'Hercules', 'Sucker Punch', 'Keeping Up with the Joneses', 'Jupiter Ascending', 'Masterminds', 'Iris', 'Busanhaeng', 'Pitch Perfect', 'Neighbors 2: Sorority Rising', 'The Exception', 'Man of Steel', 'The Choice', 'Ice Age: Collision Course', 'The Devil Wears Prada', 'The Infiltrator', 'There Will Be Blood', 'The Equalizer', 'Lone Survivor', 'The Cabin in the Woods', 'The House Bunny', \"She's Out of My League\", 'Inherent Vice', 'Alice Through the Looking Glass', 'Vincent N Roxxy', 'The Fast and the Furious: Tokyo Drift', 'How to Be Single', 'The Blind Side', \"La vie d'Adèle\", 'The Babadook', 'The Hobbit: The Battle of the Five Armies', 'Harry Potter and the Order of the Phoenix', 'Snowpiercer', 'The 5th Wave', 'The Stakelander', 'The Visit', 'Fast Five', 'Step Up', 'Lovesong', 'RocknRolla', 'In Time', 'The Social Network', 'The Last Witch Hunter', 'Victor Frankenstein', 'A Street Cat Named Bob', 'Green Room', 'Blackhat', 'Storks', 'American Sniper', 'Dallas Buyers Club', 'Lincoln', 'Rush', 'Before I Wake', 'Silver Linings Playbook', 'Tracktown', 'The Fault in Our Stars', 'Blended', 'Fast & Furious', 'Looper', 'White House Down', \"Pete's Dragon\", 'Spider-Man 3', 'The Three Musketeers', 'Stardust', 'American Hustle', \"Jennifer's Body\", 'Midnight in Paris', 'Lady Macbeth', 'Joy', 'The Dressmaker', 'Café Society', 'Insurgent', 'Seventh Son', 'Demain tout commence', 'The Theory of Everything', 'This Is the End', 'About Time', 'Step Brothers', 'Clown', 'Star Trek Into Darkness', 'Zombieland', 'Hail, Caesar!', 'Slumdog Millionaire', 'The Twilight Saga: Breaking Dawn - Part 2', 'American Wrestler: The Wizard', 'The Amazing Spider-Man', 'Ben-Hur', 'Sleight', 'The Maze Runner', 'Criminal', 'Wanted', 'Florence Foster Jenkins', 'Collide', 'Black Mass', 'Creed', 'Swiss Army Man', 'The Expendables 3', 'What We Do in the Shadows', 'Southpaw', 'Hush', 'Bridge of Spies', 'The Lego Movie', 'Everest', 'Pixels', 'Robin Hood', 'The Wolverine', 'John Carter', 'Keanu', 'The Gunman', 'Steve Jobs', 'Whisky Galore', 'Grown Ups 2', 'The Age of Adaline', 'The Incredible Hulk', 'Couples Retreat', 'Absolutely Anything', 'Magic Mike', 'Minions', 'The Black Room', 'Bronson', 'Despicable Me', 'The Best of Me', 'The Invitation', 'Zero Dark Thirty', 'Tangled', 'The Hunger Games: Mockingjay - Part 2', 'Vacation', 'Taken', 'Pitch Perfect 2', 'Monsters University', 'Elle', 'Mechanic: Resurrection', 'Tusk', \"The Headhunter's Calling\", 'Atonement', 'Harry Potter and the Deathly Hallows: Part 1', 'Shame', 'Hanna', 'The Babysitters', 'Pride and Prejudice and Zombies', '300: Rise of an Empire', 'London Has Fallen', 'The Curious Case of Benjamin Button', 'Sin City: A Dame to Kill For', 'The Bourne Ultimatum', 'Srpski film', 'The Purge: Election Year', '3 Idiots', 'Zoolander 2', 'World War Z', 'Mission: Impossible - Ghost Protocol', 'Let Me Make You a Martyr', 'Filth', 'The Longest Ride', 'The imposible', 'Kick-Ass 2', 'Folk Hero & Funny Guy', 'Oz the Great and Powerful', 'Brooklyn', 'Coraline', 'Blue Valentine', 'The Thinning', 'Silent Hill', 'Dredd', 'Hunt for the Wilderpeople', 'Big Hero 6', 'Carrie', 'Iron Man 2', 'Demolition', 'Pandorum', 'Olympus Has Fallen', 'I Am Number Four', 'Jagten', 'The Proposal', 'Get Hard', 'Just Go with It', 'Revolutionary Road', 'The Town', 'The Boy', 'Denial', 'Predestination', 'Goosebumps', 'Sherlock Holmes: A Game of Shadows', 'Salt', 'Enemy', 'District 9', 'The Other Guys', 'American Gangster', 'Marie Antoinette', '2012', 'Harry Potter and the Half-Blood Prince', 'Argo', 'Eddie the Eagle', 'The Lives of Others', 'Pet', 'Paint It Black', 'Macbeth', 'Forgetting Sarah Marshall', 'The Giver', 'Triple 9', 'Perfetti sconosciuti', 'Angry Birds', 'Moonrise Kingdom', 'Hairspray', 'Safe Haven', 'Focus', 'Ratatouille', 'Stake Land', 'The Book of Eli', 'Cloverfield', 'Point Break', 'Under the Skin', 'I Am Legend', 'Men in Black 3', 'Super 8', 'Law Abiding Citizen', 'Up', 'Maze Runner: The Scorch Trials', 'Carol', 'Imperium', 'Youth', 'Mr. Nobody', 'City of Tiny Lights', 'Savages', '(500) Days of Summer', 'Movie 43', 'Gravity', 'The Boy in the Striped Pyjamas', 'Shooter', 'The Happening', 'Bone Tomahawk', 'Magic Mike XXL', 'Easy A', 'Exodus: Gods and Kings', 'Chappie', 'The Hobbit: The Desolation of Smaug', 'Half of a Yellow Sun', 'Anthropoid', 'The Counselor', 'Viking', 'Whiskey Tango Foxtrot', 'Trust', 'Birth of the Dragon', 'Elysium', 'The Green Inferno', 'Godzilla', 'The Bourne Legacy', 'A Good Year', 'Friend Request', 'Deja Vu', 'Lucy', 'A Quiet Passion', 'Need for Speed', 'Jack Reacher', 'The Do-Over', 'True Crimes', 'American Pastoral', 'The Ghost Writer', 'Limitless', 'Spectral', 'P.S. I Love You', 'Zipper', 'Midnight Special', \"Don't Think Twice\", 'Alice in Wonderland', 'Chuck', 'I, Daniel Blake', 'The Break-Up', 'Loving', 'Fantastic Four', 'The Survivalist', 'Colonia', 'The Boy Next Door', 'The Gift', 'Dracula Untold', 'In the Heart of the Sea', 'Idiocracy', 'The Expendables', 'Evil Dead', 'Sinister', 'Wreck-It Ralph', 'Snow White and the Huntsman', 'Pan', 'Transformers: Dark of the Moon', 'Juno', 'A Hologram for the King', 'Money Monster', 'The Other Woman', 'Enchanted', 'The Intern', 'Little Miss Sunshine', 'Bleed for This', 'Clash of the Titans', 'The Finest Hours', 'Tron', 'The Hunger Games: Catching Fire', 'All Good Things', 'Kickboxer: Vengeance', 'The Last Airbender', 'Sex Tape', \"What to Expect When You're Expecting\", 'Moneyball', 'Ghost Rider', 'Unbroken', 'Immortals', 'Sunshine', 'Brave', 'Män som hatar kvinnor', 'Adoration', 'The Drop', \"She's the Man\", \"Daddy's Home\", 'Let Me In', 'Never Back Down', 'Grimsby', 'Moon', 'Megamind', 'Gangster Squad', 'Blood Father', \"He's Just Not That Into You\", 'Kung Fu Panda 3', 'The Rise of the Krays', 'Handsome Devil', \"Winter's Bone\", 'Horrible Bosses', 'Mommy', 'Hellboy II: The Golden Army', 'Beautiful Creatures', 'Toni Erdmann', 'The Lovely Bones', 'The Assassination of Jesse James by the Coward Robert Ford', 'Don Jon', 'Bastille Day', \"2307: Winter's Dream\", 'Free State of Jones', 'Mr. Right', 'The Secret Life of Walter Mitty', 'Dope', 'Underworld Awakening', 'Antichrist', 'Friday the 13th', 'Taken 3', 'Total Recall', 'X-Men: The Last Stand', 'The Escort', 'The Whole Truth', 'Night at the Museum: Secret of the Tomb', 'Love & Other Drugs', 'The Interview', 'The Host', 'Megan Is Missing', 'WALL·E', 'Knocked Up', 'Source Code', 'Lawless', 'Unfriended', 'American Reunion', 'The Pursuit of Happyness', 'Relatos salvajes', 'The Ridiculous 6', 'Frantz', 'Viral', 'Gran Torino', 'Burnt', 'Tall Men', 'Sleeping Beauty', 'Vampire Academy', 'Sweeney Todd: The Demon Barber of Fleet Street', 'Solace', 'Insidious', 'Popstar: Never Stop Never Stopping', 'The Levelling', 'Public Enemies', 'Boyhood', 'Teenage Mutant Ninja Turtles', 'Eastern Promises', 'The Daughter', 'Pineapple Express', 'The First Time', 'Gone Baby Gone', 'The Heat', \"L'avenir\", 'Anna Karenina', 'Regression', 'Ted 2', 'Pain & Gain', 'Blood Diamond', \"Devil's Knot\", 'Child 44', 'The Hurt Locker', 'Green Lantern', 'War on Everyone', 'The Mist', 'Escape Plan', 'Love, Rosie', 'The DUFF', 'The Age of Shadows', 'The Hunger Games: Mockingjay - Part 1', 'We Need to Talk About Kevin', 'Love & Friendship', 'The Mortal Instruments: City of Bones', 'Seven Pounds', \"The King's Speech\", 'Hunger', 'Jumper', 'Toy Story 3', 'Tinker Tailor Soldier Spy', 'Resident Evil: Retribution', 'Dear Zindagi', 'Genius', 'Pompeii', 'Life of Pi', \"Hachi: A Dog's Tale\", '10 Years', 'I Origins', 'Live Free or Die Hard', 'The Matchbreaker', 'Funny Games', 'Ted', 'RED', 'Australia', 'Faster', 'The Neighbor', 'The Adjustment Bureau', 'The Hollars', 'The Judge', 'Closed Circuit', 'Transformers: Revenge of the Fallen', 'La tortue rouge', 'The Book of Life', 'Incendies', 'The Heartbreak Kid', 'Happy Feet', 'Entourage', 'The Strangers', 'Noah', 'Neighbors', 'Nymphomaniac: Vol. II', 'Wild', 'Grown Ups', 'Blair Witch', 'The Karate Kid', 'Dark Shadows', 'Friends with Benefits', 'The Illusionist', 'The A-Team', 'The Guest', 'The Internship', 'Paul', 'This Beautiful Fantastic', 'The Da Vinci Code', 'Mr. Church', 'Hugo', \"The Blackcoat's Daughter\", 'Body of Lies', 'Knight of Cups', 'The Mummy: Tomb of the Dragon Emperor', 'The Boss', 'Hands of Stone', 'El secreto de sus ojos', 'True Grit', 'We Are Your Friends', 'A Million Ways to Die in the West', 'Only for One Night', \"Rules Don't Apply\", 'Ouija: Origin of Evil', 'Percy Jackson: Sea of Monsters', 'Fracture', 'Oculus', 'In Bruges', 'This Means War', 'Lída Baarová', 'The Road', 'Lavender', 'Deuces', 'Conan the Barbarian', 'The Fighter', 'August Rush', 'Chef', 'Eye in the Sky', 'Eagle Eye', 'The Purge', 'PK', \"Ender's Game\", 'Indiana Jones and the Kingdom of the Crystal Skull', 'Paper Towns', 'High-Rise', 'Quantum of Solace', 'The Assignment', 'How to Train Your Dragon', 'Lady in the Water', 'The Fountain', 'Cars 2', '31', 'Final Girl', 'Chalk It Up', 'The Man Who Knew Infinity', 'Unknown', 'Self/less', 'Mr. Brooks', 'Tramps', 'Before We Go', 'Captain Phillips', 'The Secret Scripture', 'Max Steel', 'Hotel Transylvania 2', 'Hancock', 'Sisters', 'The Family', 'Zack and Miri Make a Porno', 'Ma vie de Courgette', 'Man on a Ledge', 'No Strings Attached', 'Rescue Dawn', 'Despicable Me 2', 'A Walk Among the Tombstones', \"The World's End\", 'Yoga Hosers', 'Seven Psychopaths', 'Beowulf', 'Jack Ryan: Shadow Recruit', '1408', 'The Gambler', 'Prince of Persia: The Sands of Time', 'The Spectacular Now', 'A United Kingdom', 'USS Indianapolis: Men of Courage', 'Turbo Kid', 'Mama', 'Orphan', 'To Rome with Love', 'Fantastic Mr. Fox', 'Inside Man', 'I.T.', '127 Hours', 'Annabelle', 'Wolves at the Door', 'Suite Française', 'The Imaginarium of Doctor Parnassus', 'G.I. Joe: The Rise of Cobra', 'Christine', 'Man Down', 'Crawlspace', 'Shut In', 'The Warriors Gate', 'Grindhouse', 'Disaster Movie', 'Rocky Balboa', 'Diary of a Wimpy Kid: Dog Days', 'Jane Eyre', \"Fool's Gold\", 'The Dictator', 'The Loft', 'Bacalaureat', \"You Don't Mess with the Zohan\", 'Exposed', 'Maudie', 'Horrible Bosses 2', 'A Bigger Splash', 'Melancholia', 'The Princess and the Frog', 'Unstoppable', 'Flight', 'Home', 'La migliore offerta', 'Mean Dreams', '42', '21', 'Begin Again', 'Out of the Furnace', 'Vicky Cristina Barcelona', 'Kung Fu Panda', 'Barbershop: The Next Cut', 'Terminator Salvation', 'Freedom Writers', 'The Hills Have Eyes', 'Changeling', 'Remember Me', 'Koe no katachi', 'Alexander and the Terrible, Horrible, No Good, Very Bad Day', 'Locke', 'The 9th Life of Louis Drax', 'Horns', 'Indignation', 'The Stanford Prison Experiment', 'Diary of a Wimpy Kid: Rodrick Rules', 'Mission: Impossible III', 'En man som heter Ove', 'Dragonball Evolution', 'Red Dawn', 'One Day', 'Life as We Know It', '28 Weeks Later', 'Warm Bodies', 'Blue Jasmine', 'G.I. Joe: Retaliation', 'Wrath of the Titans', 'Shin Gojira', 'Saving Mr. Banks', 'Transcendence', 'Rio', 'Equals', 'Babel', 'The Tree of Life', 'The Lucky One', 'Piranha 3D', '50/50', 'The Intent', 'This Is 40', 'Real Steel', 'Sex and the City', 'Rambo', 'Planet Terror', 'Concussion', 'The Fall', 'The Ugly Truth', 'Bride Wars', 'Sleeping with Other People', 'Snakes on a Plane', 'What If', 'How to Train Your Dragon 2', 'RoboCop', 'In Dubious Battle', 'Hello, My Name Is Doris', \"Ocean's Thirteen\", 'Slither', 'Contagion', 'Il racconto dei racconti - Tale of Tales', 'I Am the Pretty Thing That Lives in the House', 'Bridge to Terabithia', 'Coherence', 'Notorious', 'Goksung', 'The Expendables 2', 'The Girl Next Door', 'Perfume: The Story of a Murderer', 'The Golden Compass', 'Centurion', 'Scouts Guide to the Zombie Apocalypse', '17 Again', 'No Escape', 'Superman Returns', 'The Twilight Saga: Breaking Dawn - Part 1', 'Precious', 'The Sea of Trees', 'Good Kids', 'The Master', 'Footloose', 'If I Stay', 'The Ticket', 'Detour', 'The Love Witch', 'Talladega Nights: The Ballad of Ricky Bobby', 'The Human Centipede (First Sequence)', 'Super', 'The Siege of Jadotville', 'Up in the Air', 'The Midnight Meat Train', 'The Twilight Saga: Eclipse', 'Transpecos', \"What's Your Number?\", 'Riddick', 'Triangle', 'The Butler', 'King Cobra', 'After Earth', 'Kicks', 'Me and Earl and the Dying Girl', 'The Descendants', 'Sex and the City 2', 'The Kings of Summer', 'Death Race', 'That Awkward Moment', 'Legion', 'End of Watch', '3 Days to Kill', 'Lucky Number Slevin', 'Trance', 'Into the Forest', 'The Other Boleyn Girl', 'I Spit on Your Grave', 'Custody', 'Inland Empire', \"L'odyssée\", 'The Walk', 'Wrecker', 'The Lone Ranger', 'Texas Chainsaw 3D', 'Disturbia', 'Rock of Ages', 'Scream 4', 'Queen of Katwe', 'My Big Fat Greek Wedding 2', 'Dark Places', 'Amateur Night', \"It's Only the End of the World\", 'The Skin I Live In', 'Miracles from Heaven', 'Annie', 'Across the Universe', \"Let's Be Cops\", 'Max', 'Your Highness', 'Final Destination 5', 'Endless Love', 'Martyrs', 'Selma', 'Underworld: Rise of the Lycans', 'Taare Zameen Par', 'Take Me Home Tonight', 'Resident Evil: Afterlife', 'Project X', 'Secret in Their Eyes', 'Hostel: Part II', 'Step Up 2: The Streets', 'Search Party', 'Nine Lives']\n"
     ]
    }
   ],
   "source": [
    "# creating a list of all the movie titles \n",
    "all_titles = data['Title'].tolist()\n",
    "print(all_titles)"
   ]
  },
  {
   "cell_type": "markdown",
   "id": "75305708",
   "metadata": {},
   "source": [
    "* Here, I have employed the difflib library to find close matches for the user input in the movie dataset. The best match is then found by taking the first element of the list of close matches:"
   ]
  },
  {
   "cell_type": "code",
   "execution_count": 18,
   "id": "1244a66f",
   "metadata": {},
   "outputs": [
    {
     "name": "stdout",
     "output_type": "stream",
     "text": [
      "['The Hangover', 'The Last Face', 'The Bad Batch']\n"
     ]
    }
   ],
   "source": [
    "# finding the close matches for the user input \n",
    "close_matches = difflib.get_close_matches(user_input, all_titles)\n",
    "print(close_matches)"
   ]
  },
  {
   "cell_type": "code",
   "execution_count": 19,
   "id": "9bf9e07d",
   "metadata": {},
   "outputs": [
    {
     "name": "stdout",
     "output_type": "stream",
     "text": [
      "The Hangover\n"
     ]
    }
   ],
   "source": [
    "# finding the best match for the user input\n",
    "best_match = close_matches[0]\n",
    "print(best_match)"
   ]
  },
  {
   "cell_type": "code",
   "execution_count": 20,
   "id": "0afdc7bf",
   "metadata": {},
   "outputs": [
    {
     "name": "stdout",
     "output_type": "stream",
     "text": [
      "7.8\n"
     ]
    }
   ],
   "source": [
    "# getting the IMDB rating for the best match\n",
    "rating_best_match = data[data.Title == best_match]['Rating'].values[0]\n",
    "print(rating_best_match)"
   ]
  },
  {
   "cell_type": "code",
   "execution_count": 21,
   "id": "51ae807f",
   "metadata": {},
   "outputs": [
    {
     "name": "stdout",
     "output_type": "stream",
     "text": [
      "255\n"
     ]
    }
   ],
   "source": [
    "# getting the index of the best match\n",
    "index_best_match = data[data.Title == best_match]['index'].values[0]\n",
    "print(index_best_match)"
   ]
  },
  {
   "cell_type": "code",
   "execution_count": 22,
   "id": "d7fdcf46",
   "metadata": {},
   "outputs": [],
   "source": [
    "# creating a list of tuples containing the index and similarity score for the best match\n",
    "similarities = list(enumerate(similarity_score[index_best_match]))"
   ]
  },
  {
   "cell_type": "code",
   "execution_count": 23,
   "id": "ed2ee973",
   "metadata": {
    "scrolled": false
   },
   "outputs": [
    {
     "name": "stdout",
     "output_type": "stream",
     "text": [
      "[(0, 0.04425881960054167), (1, 0.045450151828962955), (2, 0.08446564413028597), (3, 0.08194805120555405), (4, 0.05607300489462608), (5, 0.035388978757614056), (6, 0.016667287111676726), (7, 0.03692562781379106), (8, 0.08504756770301145), (9, 0.013961252304717023), (10, 0.08150580173438571), (11, 0.039740516684689906), (12, 0.05268964225275697), (13, 0.03434388426778809), (14, 0.06780418119334362), (15, 0.03758445619142756), (16, 0.0354633587324231), (17, 0.021379869455621654), (18, 0.06851743445955923), (19, 0.062352150872596164), (20, 0.057008068444836545), (21, 0.03144222153065617), (22, 0.04643473113657672), (23, 0.03133392249904536), (24, 0.012455101559875791), (25, 0.01654497660223469), (26, 0.02847375427146433), (27, 0.025494048100835744), (28, 0.07336227556630945), (29, 0.035550360901519806), (30, 0.030451744923868977), (31, 0.0), (32, 0.03256688465082344), (33, 0.027724194003225806), (34, 0.0656698688008444), (35, 0.017936340530728626), (36, 0.02557468495614954), (37, 0.02719262382123367), (38, 0.02614609621274463), (39, 0.052949457865052715), (40, 0.06491646264877322), (41, 0.04365755296152854), (42, 0.05441009640163731), (43, 0.04803623427217857), (44, 0.03331555312813264), (45, 0.05266560723569727), (46, 0.03508560318725057), (47, 0.02763551895910754), (48, 0.04814349734472237), (49, 0.01641741350082702), (50, 0.09642848867328736), (51, 0.026055180833934787), (52, 0.08049430647981384), (53, 0.028604336285370298), (54, 0.05971531652559517), (55, 0.049734576066411997), (56, 0.022539921243558914), (57, 0.053592056969399296), (58, 0.07620608360923349), (59, 0.06406482302592602), (60, 0.03243179233236891), (61, 0.0243228110993217), (62, 0.06696068278140235), (63, 0.0025809973196966366), (64, 0.033080856609256845), (65, 0.027980014608111323), (66, 0.08957862906143507), (67, 0.03246543935138729), (68, 0.029686820162615767), (69, 0.029228242392981205), (70, 0.04467695217852138), (71, 0.05795676499632519), (72, 0.029763423411048685), (73, 0.026815471389862355), (74, 0.04780619131624547), (75, 0.08376532772197565), (76, 0.05817953493652686), (77, 0.02343753152954251), (78, 0.04893460309967645), (79, 0.020623159915750745), (80, 0.021982108193813354), (81, 0.06419883094311483), (82, 0.06794229561366599), (83, 0.02956187632998597), (84, 0.01717944125163324), (85, 0.010565395671546428), (86, 0.07701867942072076), (87, 0.032208672949736825), (88, 0.06300065120693775), (89, 0.04860279208342688), (90, 0.08530310940029696), (91, 0.019111324184070515), (92, 0.06886615706635558), (93, 0.04420917260499861), (94, 0.03677725606341173), (95, 0.07974761794249065), (96, 0.09143344602102706), (97, 0.01781043014418155), (98, 0.03533103688501644), (99, 0.03867556635580234), (100, 0.012741411820842402), (101, 0.038275380686035906), (102, 0.07467970669266828), (103, 0.030558989689253822), (104, 0.04761030358706516), (105, 0.07318247785649966), (106, 0.0334058916760987), (107, 0.05159889053310202), (108, 0.05472074433708756), (109, 0.02731639065987778), (110, 0.06184504211207302), (111, 0.028633504919456692), (112, 0.037608148778839806), (113, 0.025992158586579744), (114, 0.05038868639585467), (115, 0.1404729214527269), (116, 0.016409558380378383), (117, 0.03031853028108015), (118, 0.029085196007792493), (119, 0.05219742987090924), (120, 0.029358732220859628), (121, 0.05345481303400796), (122, 0.13046084292569948), (123, 0.04055995134884868), (124, 0.08588637608514899), (125, 0.04667874571030409), (126, 0.035861102091923246), (127, 0.014916156969605913), (128, 0.0496286134376981), (129, 0.032348117158494956), (130, 0.05815971754938037), (131, 0.0668404508828994), (132, 0.03406031338726023), (133, 0.009456932940253612), (134, 0.029025242169861694), (135, 0.06392317358369826), (136, 0.045890349162175985), (137, 0.031716401959556675), (138, 0.040259192982776346), (139, 0.04868876675015682), (140, 0.06346488680823852), (141, 0.05175383637091333), (142, 0.07465058906881232), (143, 0.016770338443585477), (144, 0.03708422060479401), (145, 0.013771818735909571), (146, 0.044925946343066146), (147, 0.028240347254221865), (148, 0.06512916221922639), (149, 0.06629284619480791), (150, 0.04030550350781485), (151, 0.05288055080005374), (152, 0.058604865621805544), (153, 0.03634600309405889), (154, 0.0592397597115784), (155, 0.005180486953184812), (156, 0.051430605498123436), (157, 0.06767883507484945), (158, 0.049403105084036815), (159, 0.03145430150484556), (160, 0.05797171288042612), (161, 0.03804864897572346), (162, 0.040329268124713075), (163, 0.06582394209337104), (164, 0.032637600926368415), (165, 0.02261970043112655), (166, 0.04024724963019772), (167, 0.019995564216771868), (168, 0.06168530757418294), (169, 0.03273290932117738), (170, 0.03817858912868052), (171, 0.06324074891088746), (172, 0.09178241139398707), (173, 0.018712794672427365), (174, 0.05164093211830117), (175, 0.08700529014657417), (176, 0.031199973458875548), (177, 0.03687688644326198), (178, 0.023488075588929215), (179, 0.0523263506335173), (180, 0.023694272540853985), (181, 0.03001111708412145), (182, 0.02465178896584288), (183, 0.03536109781058462), (184, 0.05185848195991081), (185, 0.08778369014544489), (186, 0.023280651302568355), (187, 0.061116452528888046), (188, 0.022001787523846367), (189, 0.009041344358397624), (190, 0.05111890934919378), (191, 0.019694214236224562), (192, 0.051181004408276574), (193, 0.002756642882461411), (194, 0.03774829840668307), (195, 0.01085611813359146), (196, 0.04319617385243049), (197, 0.06905469487184375), (198, 0.037167738516429155), (199, 0.03460243760392957), (200, 0.023296140365705), (201, 0.042362311968438385), (202, 0.048542813802771555), (203, 0.01271911354563783), (204, 0.07361189532765605), (205, 0.037286041490316287), (206, 0.010216760013424472), (207, 0.04796522756312511), (208, 0.0701752625594085), (209, 0.04766519601978382), (210, 0.08089045517371853), (211, 0.07316461726676225), (212, 0.03872360886280175), (213, 0.03262466347206916), (214, 0.039424429995686176), (215, 0.03662159565254604), (216, 0.06156676185390016), (217, 0.009805420339662856), (218, 0.04405998198706797), (219, 0.03782024864307988), (220, 0.11491037114751275), (221, 0.02862325552225), (222, 0.0), (223, 0.06606244709728072), (224, 0.047282031921674114), (225, 0.04840505792263999), (226, 0.10316211706525617), (227, 0.009778356413047994), (228, 0.04166002434834787), (229, 0.01766809435567366), (230, 0.02775887868165907), (231, 0.03976260506745083), (232, 0.030705783667996978), (233, 0.044218861076040034), (234, 0.05127125609871469), (235, 0.034808096078058424), (236, 0.015234165724959808), (237, 0.06191265796977212), (238, 0.07643069621104777), (239, 0.05621667421471829), (240, 0.06564582094680883), (241, 0.04582487920631867), (242, 0.04097559758813987), (243, 0.023135739166976668), (244, 0.03759806214528272), (245, 0.036071995363627776), (246, 0.02877204513878319), (247, 0.042836358384045335), (248, 0.025506823471103647), (249, 0.0577533735869144), (250, 0.03061884804046961), (251, 0.0927192070840564), (252, 0.07719059989848182), (253, 0.05835183465064415), (254, 0.04536398748866281), (255, 1.0000000000000002), (256, 0.07406819646492953), (257, 0.03130628531483709), (258, 0.03533838042864694), (259, 0.040204716310570085), (260, 0.039081490455221836), (261, 0.03899606715976777), (262, 0.023593677955847225), (263, 0.010863814625647256), (264, 0.04110401559797957), (265, 0.015777329338225517), (266, 0.08795059731880192), (267, 0.04006025583438433), (268, 0.04430006247394437), (269, 0.05879562841002597), (270, 0.04509591073740592), (271, 0.06493951723522154), (272, 0.027260310093988892), (273, 0.053806145742394076), (274, 0.02959884123049034), (275, 0.01572699379976569), (276, 0.07298486726614735), (277, 0.029242962869745537), (278, 0.08178050311019822), (279, 0.039329363301889506), (280, 0.05728078124054089), (281, 0.029598264872989433), (282, 0.013965332817112625), (283, 0.026923824124772427), (284, 0.040234083235279355), (285, 0.005143500404724068), (286, 0.08211244082873212), (287, 0.032521610894024194), (288, 0.04352893329079017), (289, 0.03719567539068491), (290, 0.03397272907702863), (291, 0.04920645376350188), (292, 0.05795526869279086), (293, 0.04175052149561199), (294, 0.04099485740867275), (295, 0.04503372305627018), (296, 0.040775547689500265), (297, 0.03162869644551865), (298, 0.008276384584794618), (299, 0.04394547800141828), (300, 0.02533846654831073), (301, 0.05084380829839643), (302, 0.07017480574424617), (303, 0.02889308422535672), (304, 0.05808880418739619), (305, 0.024872612339567376), (306, 0.04323351188300989), (307, 0.03545356619111127), (308, 0.060910290791045395), (309, 0.06758341967864996), (310, 0.0391591777268014), (311, 0.020648446396537852), (312, 0.07314789477129426), (313, 0.06797176299388474), (314, 0.06363828364555063), (315, 0.05080229114005805), (316, 0.0225459644904748), (317, 0.08871010618746378), (318, 0.03892977364795874), (319, 0.05050840895726024), (320, 0.05405122846595985), (321, 0.011469355830861956), (322, 0.06117095653717878), (323, 0.09073965220980568), (324, 0.04011157483562426), (325, 0.04207003629040625), (326, 0.046782901138415545), (327, 0.02617625781900918), (328, 0.0028192647078622087), (329, 0.028063297318869328), (330, 0.052058044352542396), (331, 0.023960933669853364), (332, 0.07397957339747924), (333, 0.049277062227651096), (334, 0.012645237816208493), (335, 0.08232367294939912), (336, 0.04719145469690441), (337, 0.03501864041086667), (338, 0.02801728821186584), (339, 0.07930861630001544), (340, 0.043858068608102575), (341, 0.03666768291593232), (342, 0.04890922997916236), (343, 0.04633219143076284), (344, 0.03012737894938354), (345, 0.09292069497494021), (346, 0.021636627691431848), (347, 0.018059739601113765), (348, 0.0482822103820524), (349, 0.036891358745192414), (350, 0.015090623456160758), (351, 0.028396694313364088), (352, 0.038154442330348745), (353, 0.04886407105906386), (354, 0.027221260786481183), (355, 0.03675220717833745), (356, 0.030933723365050216), (357, 0.043582726285344646), (358, 0.05795401384884083), (359, 0.07246966875626462), (360, 0.04997491791221057), (361, 0.03677708532673676), (362, 0.06712829896559247), (363, 0.04893797012968786), (364, 0.050064456841317384), (365, 0.03510863566892465), (366, 0.08856384844668412), (367, 0.05792415126480817), (368, 0.023328609637049823), (369, 0.027108414131253915), (370, 0.05455845958683307), (371, 0.08051558856634515), (372, 0.025056792771478084), (373, 0.020773381467042884), (374, 0.01571512260908148), (375, 0.0626060158485595), (376, 0.04948912123899027), (377, 0.049951587898851235), (378, 0.02926526097570186), (379, 0.033037128988723734), (380, 0.05299732530176364), (381, 0.032180435633068875), (382, 0.018060379041431072), (383, 0.03312070264928212), (384, 0.030552373780452436), (385, 0.02830887302515834), (386, 0.05556998098860894), (387, 0.04011611595850549), (388, 0.02679790068388028), (389, 0.0165785651692183), (390, 0.06352790247808326), (391, 0.03955507112760108), (392, 0.06680121684380017), (393, 0.023778593425969607), (394, 0.06393652035883657), (395, 0.03201860417977948), (396, 0.06632866938679968), (397, 0.06299270226664765), (398, 0.026005086175704576), (399, 0.09761326494084237), (400, 0.011597162708130037), (401, 0.08819850312894677), (402, 0.05207795245715429), (403, 0.03573917019047052), (404, 0.059498491544254045), (405, 0.07667409333909217), (406, 0.043000106883826744), (407, 0.03629477052236123), (408, 0.05137566483891061), (409, 0.09443470951321327), (410, 0.020508498011787002), (411, 0.09420844198953382), (412, 0.0577982251990011), (413, 0.040272348543773206), (414, 0.07084606878096096), (415, 0.08524905006613626), (416, 0.09075954245154431), (417, 0.011930171575275789), (418, 0.06413919152924259), (419, 0.006900093901481589), (420, 0.012975697586752027), (421, 0.052408745636777894), (422, 0.04069109160481725), (423, 0.01965714830654693), (424, 0.02660215051039841), (425, 0.025600778640435327), (426, 0.05491069183707789), (427, 0.03989309042628471), (428, 0.07405296925505608), (429, 0.040135573166693035), (430, 0.11106530680797469), (431, 0.06834781514377535), (432, 0.029911546215960247), (433, 0.061145250221029734), (434, 0.06505416226305122), (435, 0.08188130847548054), (436, 0.03159314111871037), (437, 0.059763744656245184), (438, 0.020420787970880046), (439, 0.05438918024576457), (440, 0.05097106810207752), (441, 0.038875229218310964), (442, 0.0031342104594748567), (443, 0.03393045051433286), (444, 0.026655820780058525), (445, 0.01629093640305778), (446, 0.05780810008969499), (447, 0.07454957118194615), (448, 0.03648613599945571), (449, 0.0026365937692801773), (450, 0.04510161015100389), (451, 0.05487198694972443), (452, 0.15541715393332886), (453, 0.08022628952630718), (454, 0.07711976952875486), (455, 0.03659327299588377), (456, 0.07133470762783994), (457, 0.016586845247800817), (458, 0.07093991650734684), (459, 0.06639003161695288), (460, 0.043213608301621596), (461, 0.037769335123131006), (462, 0.011364410745989444), (463, 0.02380157741838526), (464, 0.05726358228000723), (465, 0.03050262932055104), (466, 0.013849719877252836), (467, 0.018369734491089546), (468, 0.03924550625006775), (469, 0.09000612456309104), (470, 0.057878965532880584), (471, 0.03670014918843819), (472, 0.015839478555202624), (473, 0.027957005595787374), (474, 0.0354422949656803), (475, 0.041440829970215406), (476, 0.05638452212623128), (477, 0.018255539078863434), (478, 0.029736465460532324), (479, 0.038497461829827447), (480, 0.06537681109872703), (481, 0.04363868567933343), (482, 0.07388704649954014), (483, 0.05696435288467966), (484, 0.06186812836230557), (485, 0.09238361956632282), (486, 0.005734813634810187), (487, 0.03182395162170379), (488, 0.06019597189183597), (489, 0.015520609588766903), (490, 0.04809476863853037), (491, 0.08889658712560837), (492, 0.016053781575518553), (493, 0.008047017406777185), (494, 0.036969489058614254), (495, 0.07254479180779878), (496, 0.08898187299001004), (497, 0.048890569346238276), (498, 0.04148637114504635), (499, 0.04520575995375421), (500, 0.03564097223396521), (501, 0.018435140457160284), (502, 0.022118332600317703), (503, 0.07168847330378532), (504, 0.030078575141330947), (505, 0.06824808706407441), (506, 0.03215346505958171), (507, 0.02982432065113407), (508, 0.039939813872818544), (509, 0.013358933286757108), (510, 0.05568421061414592), (511, 0.07940414256820226), (512, 0.024370206910513822), (513, 0.035264678613813646), (514, 0.06671473935614484), (515, 0.02118936210212664), (516, 0.04131335999251604), (517, 0.03701168230674345), (518, 0.07934370421524453), (519, 0.04984634168195051), (520, 0.04294459129144094), (521, 0.03930437584909891), (522, 0.030852653923324518), (523, 0.01798065921262243), (524, 0.0), (525, 0.06217609830830898), (526, 0.04245322091159655), (527, 0.07753922533464554), (528, 0.03245443479681659), (529, 0.1175920589745993), (530, 0.036350026021199), (531, 0.058161613788547145), (532, 0.0480598994205407), (533, 0.018865649449530744), (534, 0.023875687173187787), (535, 0.04327924689939869), (536, 0.0), (537, 0.10758525894315286), (538, 0.01570923303443026), (539, 0.05690640432959465), (540, 0.0363372474502063), (541, 0.045318521748973765), (542, 0.0031625583937544104), (543, 0.005932029541703622), (544, 0.01343300546721597), (545, 0.03634520996171009), (546, 0.07538767675080535), (547, 0.046183136931204356), (548, 0.013338708642959489), (549, 0.05049683062481209), (550, 0.11038800765109906), (551, 0.030137781887855354), (552, 0.0802605118886459), (553, 0.03687699237903061), (554, 0.016887016182804013), (555, 0.04098690819658692), (556, 0.029348720344543326), (557, 0.0690353841921433), (558, 0.040633115582088736), (559, 0.04038702561739951), (560, 0.018425288077051977), (561, 0.0547430089182887), (562, 0.03863115515436818), (563, 0.03480288336543613), (564, 0.06364684213053942), (565, 0.02750527879488969), (566, 0.043939475817059356), (567, 0.014784560657123847), (568, 0.03379730820268534), (569, 0.03412375100933554), (570, 0.08834094804034451), (571, 0.055579411378302655), (572, 0.03778691238101731), (573, 0.06833221880693116), (574, 0.010616077039080964), (575, 0.050729390276632834), (576, 0.03120424343024274), (577, 0.04544270885781422), (578, 0.06026059406577338), (579, 0.019729856871405292), (580, 0.012771141131006868), (581, 0.05531393478207881), (582, 0.1377210920077751), (583, 0.06038013807934357), (584, 0.004516861358523072), (585, 0.040495258983550435), (586, 0.05249336651446064), (587, 0.01900248822579837), (588, 0.029609836452194366), (589, 0.04074310331613263), (590, 0.0471129310526701), (591, 0.008767567222044257), (592, 0.09070057012002639), (593, 0.045278136094351745), (594, 0.03910442128986909), (595, 0.027496214807054713), (596, 0.011287593206012584), (597, 0.049361688095405774), (598, 0.04271272549408606), (599, 0.05199052800761877), (600, 0.0724456960883896), (601, 0.03051357642876644), (602, 0.03570337932356597), (603, 0.025351153569448982), (604, 0.06431351406955102), (605, 0.0423642974236719), (606, 0.0024679398058709257), (607, 0.15184169586308494), (608, 0.021108030760700412), (609, 0.08123574064747563), (610, 0.0768205127544378), (611, 0.023412633207765543), (612, 0.02136715098255766), (613, 0.033702136510091525), (614, 0.06323137124936552), (615, 0.012930683826664584), (616, 0.030737080607116034), (617, 0.024632538006453344), (618, 0.04369228325017744), (619, 0.04313471908673917), (620, 0.05441625922119794), (621, 0.035097449159909026), (622, 0.06998174462829257), (623, 0.04952419125681466), (624, 0.040864254138619466), (625, 0.03140802376389723), (626, 0.023675489926272355), (627, 0.02438703863580203), (628, 0.02897300666854646), (629, 0.09606825509420357), (630, 0.028328075564921843), (631, 0.06502190434476841), (632, 0.036056795634556674), (633, 0.048314648314085766), (634, 0.027004003456269417), (635, 0.1083739337872599), (636, 0.05663691628485192), (637, 0.03224149306853801), (638, 0.08558215387226313), (639, 0.057440998975297794), (640, 0.024868944677347928), (641, 0.0277838918587496), (642, 0.06081689128046618), (643, 0.04038901957818814), (644, 0.04065478148298132), (645, 0.007931075811893031), (646, 0.05502634521843607), (647, 0.014279704734898133), (648, 0.006411221158572464), (649, 0.031175717790907744), (650, 0.044767083289623005), (651, 0.0691168695344488), (652, 0.05502575255926634), (653, 0.02907877044995294), (654, 0.010725562093955174), (655, 0.025970218442798544), (656, 0.04647503128094947), (657, 0.07554581736224342), (658, 0.017259149637543426), (659, 0.06157574760207644), (660, 0.04816415904299359), (661, 0.037783195054809184), (662, 0.0030151890014247828), (663, 0.026425390031289853), (664, 0.03369885933473247), (665, 0.017791227590781937), (666, 0.019799965872713307), (667, 0.04707923907141689), (668, 0.04486791420770281), (669, 0.016609088782280526), (670, 0.07129480397278631), (671, 0.02112462336643032), (672, 0.0627507335828475), (673, 0.011156270751523964), (674, 0.05175271753897983), (675, 0.056256679525288775), (676, 0.06858387495336889), (677, 0.06183807826623999), (678, 0.056961101519425066), (679, 0.042262417748503735), (680, 0.03630060971535001), (681, 0.026592634740377135), (682, 0.03372954093421749), (683, 0.05762345971570845), (684, 0.022162749551218063), (685, 0.05348220866272786), (686, 0.01850330242195685), (687, 0.0513632273852928), (688, 0.08016455114620051), (689, 0.035732460739139375), (690, 0.013657608779517617), (691, 0.01998013095047007), (692, 0.012601835536628789), (693, 0.04500902832375039), (694, 0.01395297109916967), (695, 0.02472778475630573), (696, 0.1477352594170288), (697, 0.009338336720416205), (698, 0.013568375767893097), (699, 0.038117401292417426), (700, 0.03956970697296108), (701, 0.03997896319437565), (702, 0.03349876704530382), (703, 0.07570892979691743), (704, 0.02093152994001922), (705, 0.062392290948490164), (706, 0.028990378404938094), (707, 0.03958175801211631), (708, 0.09376395550196327), (709, 0.06029977528782787), (710, 0.04126592998537434), (711, 0.009974913479049368), (712, 0.06575465506052934), (713, 0.06665388915068994), (714, 0.03193461472070534), (715, 0.05524662633895711), (716, 0.030878585620541608), (717, 0.05164108287733087), (718, 0.04748127754510613), (719, 0.05694519021131318), (720, 0.03177291595642221), (721, 0.047462536985723815), (722, 0.031332805917009585), (723, 0.028023928893756527), (724, 0.04468276319884074), (725, 0.039360986890883465), (726, 0.05278116274687696), (727, 0.0544981906153071), (728, 0.08262195215497348), (729, 0.1019093576046905), (730, 0.08800392138616908), (731, 0.016532458093622363), (732, 0.018638288638657755), (733, 0.036218814318790045), (734, 0.021739178877839195), (735, 0.05667902712242331), (736, 0.048629895189192605), (737, 0.03386711444372305), (738, 0.1307993897551599), (739, 0.04128088057103115), (740, 0.021699342490268853), (741, 0.019806038938076132), (742, 0.040651820654613105), (743, 0.0), (744, 0.05778718166656481), (745, 0.05366517838129814), (746, 0.06025998889579075), (747, 0.041771234545201166), (748, 0.0483289967133121), (749, 0.09937367425211421), (750, 0.017812485821402095), (751, 0.014151006656112249), (752, 0.06833442476543154), (753, 0.04826327506691258), (754, 0.013109513617181821), (755, 0.05751335701625006), (756, 0.05079487874044166), (757, 0.0), (758, 0.03554729542923137), (759, 0.06953034337822825), (760, 0.021100173291561074), (761, 0.03262692772056808), (762, 0.0414220701206786), (763, 0.0617659122512453), (764, 0.03272998933153356), (765, 0.11246179334607574), (766, 0.07735311280426269), (767, 0.032955538342173366), (768, 0.047880702863119684), (769, 0.023997904644941018), (770, 0.03698963634037825), (771, 0.05841333580798198), (772, 0.04753509806170475), (773, 0.10525625631098665), (774, 0.03695752846496753), (775, 0.06014327118864685), (776, 0.04247896916276143), (777, 0.012062536898099269), (778, 0.02190387176270779), (779, 0.05997708155548011), (780, 0.0758382366906811), (781, 0.030265962573900525), (782, 0.010078429021041042), (783, 0.04958593835893571), (784, 0.11989731614826521), (785, 0.03763945309647614), (786, 0.013985293005790548), (787, 0.03675108400753511), (788, 0.08044660037477057), (789, 0.024212469230431067), (790, 0.12322924563873416), (791, 0.05264388621570289), (792, 0.07244641257751613), (793, 0.04159201765162248), (794, 0.02867572207489374), (795, 0.11980103812607917), (796, 0.012075800736658631), (797, 0.02812546083226487), (798, 0.04072992885498158), (799, 0.05462179733667885), (800, 0.07997120832525037), (801, 0.02654354432824821), (802, 0.021426052905175953), (803, 0.01575279246700704), (804, 0.03267932033305235), (805, 0.04565857050210118), (806, 0.03676566718808265), (807, 0.024281342860832986), (808, 0.028526873423753863), (809, 0.009503803855155467), (810, 0.06891006259829825), (811, 0.06000578492691553), (812, 0.025825630769120703), (813, 0.0669568364291931), (814, 0.027248741832743006), (815, 0.010349207725217633), (816, 0.014966102559968268), (817, 0.034932047165835485), (818, 0.022385338433998887), (819, 0.07186975235564375), (820, 0.018688587634315846), (821, 0.02754464861444062), (822, 0.020739711042465005), (823, 0.022326440850089994), (824, 0.060676086257079896), (825, 0.06193990869381591), (826, 0.09298773949885401), (827, 0.025500198142113243), (828, 0.03041786183918631), (829, 0.0447004475027471), (830, 0.038744709814399016), (831, 0.015578254247760872), (832, 0.012023991549249331), (833, 0.05154684998099303), (834, 0.04235430562786176), (835, 0.10612165962030823), (836, 0.032122965885850556), (837, 0.05659539161794982), (838, 0.024241941219745246), (839, 0.017798797642697813), (840, 0.038968002781431796), (841, 0.07222493672443601), (842, 0.058158393156380314), (843, 0.03340826917640667), (844, 0.04160904828262584), (845, 0.017561008977122823), (846, 0.04766347820303907), (847, 0.025482639041913804), (848, 0.05960382506501862), (849, 0.02314438251122098), (850, 0.06742474568210365), (851, 0.012596978229698998), (852, 0.040867846075684326), (853, 0.03889868545992055), (854, 0.03466215611988489), (855, 0.06306473715021373), (856, 0.03967256363256583), (857, 0.008802070688127269), (858, 0.03973068161450311), (859, 0.06665340960719002), (860, 0.0712045553636255), (861, 0.05537689487073702), (862, 0.0877790278773126), (863, 0.035940555821737406), (864, 0.029391307209380137), (865, 0.06611461297451163), (866, 0.030759508142136117), (867, 0.038690813095130144), (868, 0.04665718516080753), (869, 0.03355632192533659), (870, 0.03369536394601686), (871, 0.037132152837758406), (872, 0.0498862261812473), (873, 0.12720744734848322), (874, 0.04066080088297716), (875, 0.037301458778878686), (876, 0.036550331299758085), (877, 0.018532387889667403), (878, 0.08353515910582697), (879, 0.043628783205789695), (880, 0.01345799801596921), (881, 0.02103080014756169), (882, 0.0060976192779036925), (883, 0.042628360224845896), (884, 0.0838641057509536), (885, 0.016282089827474217), (886, 0.07015980604304947), (887, 0.06536740382924215), (888, 0.03082329234674787), (889, 0.0368647541600939), (890, 0.03548589288705341), (891, 0.08989310022052), (892, 0.022850208842879118), (893, 0.05991403115012674), (894, 0.021344414650722822), (895, 0.0354910656517955), (896, 0.03480947539163199), (897, 0.05429575564422536), (898, 0.03196476202899984), (899, 0.05985879000629375), (900, 0.03086654840405061), (901, 0.01889649097381944), (902, 0.062394711693267255), (903, 0.05798346113682662), (904, 0.04411702930798823), (905, 0.061375036475619066), (906, 0.00928039722398806), (907, 0.027446031260117687), (908, 0.013653117248149686), (909, 0.06938301191560166), (910, 0.05182090733952012), (911, 0.03663918204302639), (912, 0.04127153706788422), (913, 0.035911106435409304), (914, 0.030631839345821657), (915, 0.06733187551053992), (916, 0.07244047984220857), (917, 0.061228909716169816), (918, 0.03154891686329034), (919, 0.06303312865881729), (920, 0.05100658764903749), (921, 0.1104004374803714), (922, 0.02269490464955456), (923, 0.09053924052323147), (924, 0.0), (925, 0.043327927811905455), (926, 0.050243749100180486), (927, 0.06316690418084878), (928, 0.013294312123646325), (929, 0.04241383962623294), (930, 0.0604209300041077), (931, 0.0628749575336142), (932, 0.030185432854678205), (933, 0.027170227543370104), (934, 0.04317498197191861), (935, 0.0746736573465379), (936, 0.05504331220540598), (937, 0.04356709047053442), (938, 0.04202271893098944), (939, 0.0819462392612882), (940, 0.05620510717075425), (941, 0.01949140462087105), (942, 0.0609391105262458), (943, 0.03449158841521455), (944, 0.026175187099568745), (945, 0.06733944246063256), (946, 0.027655571582053624), (947, 0.06075879343366725), (948, 0.013644433413870255), (949, 0.02730995484184278), (950, 0.041786526244020336), (951, 0.04998536554210455), (952, 0.05796791817838267), (953, 0.1074022524114319), (954, 0.0332573381218158), (955, 0.05248498442880266), (956, 0.02323500926193048), (957, 0.03666820110262111), (958, 0.03236428668887943), (959, 0.0736320003794599), (960, 0.06847552247729456), (961, 0.06722122163925348), (962, 0.023774078036921213), (963, 0.0), (964, 0.06521226492341863), (965, 0.02780714217714115), (966, 0.01334587345944556), (967, 0.038382349666595254), (968, 0.044739202679066066), (969, 0.02836605980414449), (970, 0.01945776727425967), (971, 0.007143540780763408), (972, 0.07011779575640356), (973, 0.02064977574643712), (974, 0.018570422659572455), (975, 0.11036694020805288), (976, 0.07282613098172715), (977, 0.08827547403493782), (978, 0.028465638610384744), (979, 0.035114375601067296), (980, 0.021583947172801335), (981, 0.02189508228975523), (982, 0.05463251773722553), (983, 0.0702260166646503), (984, 0.026305856967269267), (985, 0.015392784189483623), (986, 0.06936404260916133), (987, 0.01574013751006738), (988, 0.040685248746216984), (989, 0.02223881943066167), (990, 0.05482338854173617), (991, 0.038186591083983965), (992, 0.08292997185060527), (993, 0.03179205128707944), (994, 0.14340266465069954), (995, 0.08316690344249227), (996, 0.03635680355354676), (997, 0.054700073453334754), (998, 0.10185390249624846), (999, 0.029415389799598388)]\n"
     ]
    }
   ],
   "source": [
    "print(similarities)"
   ]
  },
  {
   "cell_type": "code",
   "execution_count": 24,
   "id": "586fb1ed",
   "metadata": {},
   "outputs": [
    {
     "data": {
      "text/plain": [
       "1000"
      ]
     },
     "execution_count": 24,
     "metadata": {},
     "output_type": "execute_result"
    }
   ],
   "source": [
    "len(similarities)"
   ]
  },
  {
   "cell_type": "markdown",
   "id": "3df5f0ff",
   "metadata": {},
   "source": [
    "* After computing the cosine similarity between each pair of movies, the similarity scores then should be sorted in a descending order:"
   ]
  },
  {
   "cell_type": "code",
   "execution_count": 25,
   "id": "e41a5f70",
   "metadata": {},
   "outputs": [
    {
     "name": "stdout",
     "output_type": "stream",
     "text": [
      "[(255, 1.0000000000000002), (452, 0.15541715393332886), (607, 0.15184169586308494), (696, 0.1477352594170288), (994, 0.14340266465069954), (115, 0.1404729214527269), (582, 0.1377210920077751), (738, 0.1307993897551599), (122, 0.13046084292569948), (873, 0.12720744734848322), (790, 0.12322924563873416), (784, 0.11989731614826521), (795, 0.11980103812607917), (529, 0.1175920589745993), (220, 0.11491037114751275), (765, 0.11246179334607574), (430, 0.11106530680797469), (921, 0.1104004374803714), (550, 0.11038800765109906), (975, 0.11036694020805288), (635, 0.1083739337872599), (537, 0.10758525894315286), (953, 0.1074022524114319), (835, 0.10612165962030823), (773, 0.10525625631098665), (226, 0.10316211706525617), (729, 0.1019093576046905), (998, 0.10185390249624846), (749, 0.09937367425211421), (399, 0.09761326494084237), (50, 0.09642848867328736), (629, 0.09606825509420357), (409, 0.09443470951321327), (411, 0.09420844198953382), (708, 0.09376395550196327), (826, 0.09298773949885401), (345, 0.09292069497494021), (251, 0.0927192070840564), (485, 0.09238361956632282), (172, 0.09178241139398707), (96, 0.09143344602102706), (416, 0.09075954245154431), (323, 0.09073965220980568), (592, 0.09070057012002639), (923, 0.09053924052323147), (469, 0.09000612456309104), (891, 0.08989310022052), (66, 0.08957862906143507), (496, 0.08898187299001004), (491, 0.08889658712560837), (317, 0.08871010618746378), (366, 0.08856384844668412), (570, 0.08834094804034451), (977, 0.08827547403493782), (401, 0.08819850312894677), (730, 0.08800392138616908), (266, 0.08795059731880192), (185, 0.08778369014544489), (862, 0.0877790278773126), (175, 0.08700529014657417), (124, 0.08588637608514899), (638, 0.08558215387226313), (90, 0.08530310940029696), (415, 0.08524905006613626), (8, 0.08504756770301145), (2, 0.08446564413028597), (884, 0.0838641057509536), (75, 0.08376532772197565), (878, 0.08353515910582697), (995, 0.08316690344249227), (992, 0.08292997185060527), (728, 0.08262195215497348), (335, 0.08232367294939912), (286, 0.08211244082873212), (3, 0.08194805120555405), (939, 0.0819462392612882), (435, 0.08188130847548054), (278, 0.08178050311019822), (10, 0.08150580173438571), (609, 0.08123574064747563), (210, 0.08089045517371853), (371, 0.08051558856634515), (52, 0.08049430647981384), (788, 0.08044660037477057), (552, 0.0802605118886459), (453, 0.08022628952630718), (688, 0.08016455114620051), (800, 0.07997120832525037), (95, 0.07974761794249065), (511, 0.07940414256820226), (518, 0.07934370421524453), (339, 0.07930861630001544), (527, 0.07753922533464554), (766, 0.07735311280426269), (252, 0.07719059989848182), (454, 0.07711976952875486), (86, 0.07701867942072076), (610, 0.0768205127544378), (405, 0.07667409333909217), (238, 0.07643069621104777), (58, 0.07620608360923349), (780, 0.0758382366906811), (703, 0.07570892979691743), (657, 0.07554581736224342), (546, 0.07538767675080535), (102, 0.07467970669266828), (935, 0.0746736573465379), (142, 0.07465058906881232), (447, 0.07454957118194615), (256, 0.07406819646492953), (428, 0.07405296925505608), (332, 0.07397957339747924), (482, 0.07388704649954014), (959, 0.0736320003794599), (204, 0.07361189532765605), (28, 0.07336227556630945), (105, 0.07318247785649966), (211, 0.07316461726676225), (312, 0.07314789477129426), (276, 0.07298486726614735), (976, 0.07282613098172715), (495, 0.07254479180779878), (359, 0.07246966875626462), (792, 0.07244641257751613), (600, 0.0724456960883896), (916, 0.07244047984220857), (841, 0.07222493672443601), (819, 0.07186975235564375), (503, 0.07168847330378532), (456, 0.07133470762783994), (670, 0.07129480397278631), (860, 0.0712045553636255), (458, 0.07093991650734684), (414, 0.07084606878096096), (983, 0.0702260166646503), (208, 0.0701752625594085), (302, 0.07017480574424617), (886, 0.07015980604304947), (972, 0.07011779575640356), (622, 0.06998174462829257), (759, 0.06953034337822825), (909, 0.06938301191560166), (986, 0.06936404260916133), (651, 0.0691168695344488), (197, 0.06905469487184375), (557, 0.0690353841921433), (810, 0.06891006259829825), (92, 0.06886615706635558), (676, 0.06858387495336889), (18, 0.06851743445955923), (960, 0.06847552247729456), (431, 0.06834781514377535), (752, 0.06833442476543154), (573, 0.06833221880693116), (505, 0.06824808706407441), (313, 0.06797176299388474), (82, 0.06794229561366599), (14, 0.06780418119334362), (157, 0.06767883507484945), (309, 0.06758341967864996), (850, 0.06742474568210365), (945, 0.06733944246063256), (915, 0.06733187551053992), (961, 0.06722122163925348), (362, 0.06712829896559247), (62, 0.06696068278140235), (813, 0.0669568364291931), (131, 0.0668404508828994), (392, 0.06680121684380017), (514, 0.06671473935614484), (713, 0.06665388915068994), (859, 0.06665340960719002), (459, 0.06639003161695288), (396, 0.06632866938679968), (149, 0.06629284619480791), (865, 0.06611461297451163), (223, 0.06606244709728072), (163, 0.06582394209337104), (712, 0.06575465506052934), (34, 0.0656698688008444), (240, 0.06564582094680883), (480, 0.06537681109872703), (887, 0.06536740382924215), (964, 0.06521226492341863), (148, 0.06512916221922639), (434, 0.06505416226305122), (631, 0.06502190434476841), (271, 0.06493951723522154), (40, 0.06491646264877322), (604, 0.06431351406955102), (81, 0.06419883094311483), (418, 0.06413919152924259), (59, 0.06406482302592602), (394, 0.06393652035883657), (135, 0.06392317358369826), (564, 0.06364684213053942), (314, 0.06363828364555063), (390, 0.06352790247808326), (140, 0.06346488680823852), (171, 0.06324074891088746), (614, 0.06323137124936552), (927, 0.06316690418084878), (855, 0.06306473715021373), (919, 0.06303312865881729), (88, 0.06300065120693775), (397, 0.06299270226664765), (931, 0.0628749575336142), (672, 0.0627507335828475), (375, 0.0626060158485595), (902, 0.062394711693267255), (705, 0.062392290948490164), (19, 0.062352150872596164), (525, 0.06217609830830898), (825, 0.06193990869381591), (237, 0.06191265796977212), (484, 0.06186812836230557), (110, 0.06184504211207302), (677, 0.06183807826623999), (763, 0.0617659122512453), (168, 0.06168530757418294), (659, 0.06157574760207644), (216, 0.06156676185390016), (905, 0.061375036475619066), (917, 0.061228909716169816), (322, 0.06117095653717878), (433, 0.061145250221029734), (187, 0.061116452528888046), (942, 0.0609391105262458), (308, 0.060910290791045395), (642, 0.06081689128046618), (947, 0.06075879343366725), (824, 0.060676086257079896), (930, 0.0604209300041077), (583, 0.06038013807934357), (709, 0.06029977528782787), (578, 0.06026059406577338), (746, 0.06025998889579075), (488, 0.06019597189183597), (775, 0.06014327118864685), (811, 0.06000578492691553), (779, 0.05997708155548011), (893, 0.05991403115012674), (899, 0.05985879000629375), (437, 0.059763744656245184), (54, 0.05971531652559517), (848, 0.05960382506501862), (404, 0.059498491544254045), (154, 0.0592397597115784), (269, 0.05879562841002597), (152, 0.058604865621805544), (771, 0.05841333580798198), (253, 0.05835183465064415), (76, 0.05817953493652686), (531, 0.058161613788547145), (130, 0.05815971754938037), (842, 0.058158393156380314), (304, 0.05808880418739619), (903, 0.05798346113682662), (160, 0.05797171288042612), (952, 0.05796791817838267), (71, 0.05795676499632519), (292, 0.05795526869279086), (358, 0.05795401384884083), (367, 0.05792415126480817), (470, 0.057878965532880584), (446, 0.05780810008969499), (412, 0.0577982251990011), (744, 0.05778718166656481), (249, 0.0577533735869144), (683, 0.05762345971570845), (755, 0.05751335701625006), (639, 0.057440998975297794), (280, 0.05728078124054089), (464, 0.05726358228000723), (20, 0.057008068444836545), (483, 0.05696435288467966), (678, 0.056961101519425066), (719, 0.05694519021131318), (539, 0.05690640432959465), (735, 0.05667902712242331), (636, 0.05663691628485192), (837, 0.05659539161794982), (476, 0.05638452212623128), (675, 0.056256679525288775), (239, 0.05621667421471829), (940, 0.05620510717075425), (4, 0.05607300489462608), (510, 0.05568421061414592), (571, 0.055579411378302655), (386, 0.05556998098860894), (861, 0.05537689487073702), (581, 0.05531393478207881), (715, 0.05524662633895711), (936, 0.05504331220540598), (646, 0.05502634521843607), (652, 0.05502575255926634), (426, 0.05491069183707789), (451, 0.05487198694972443), (990, 0.05482338854173617), (561, 0.0547430089182887), (108, 0.05472074433708756), (997, 0.054700073453334754), (982, 0.05463251773722553), (799, 0.05462179733667885), (370, 0.05455845958683307), (727, 0.0544981906153071), (620, 0.05441625922119794), (42, 0.05441009640163731), (439, 0.05438918024576457), (897, 0.05429575564422536), (320, 0.05405122846595985), (273, 0.053806145742394076), (745, 0.05366517838129814), (57, 0.053592056969399296), (685, 0.05348220866272786), (121, 0.05345481303400796), (380, 0.05299732530176364), (39, 0.052949457865052715), (151, 0.05288055080005374), (726, 0.05278116274687696), (12, 0.05268964225275697), (45, 0.05266560723569727), (791, 0.05264388621570289), (586, 0.05249336651446064), (955, 0.05248498442880266), (421, 0.052408745636777894), (179, 0.0523263506335173), (119, 0.05219742987090924), (402, 0.05207795245715429), (330, 0.052058044352542396), (599, 0.05199052800761877), (184, 0.05185848195991081), (910, 0.05182090733952012), (141, 0.05175383637091333), (674, 0.05175271753897983), (717, 0.05164108287733087), (174, 0.05164093211830117), (107, 0.05159889053310202), (833, 0.05154684998099303), (156, 0.051430605498123436), (408, 0.05137566483891061), (687, 0.0513632273852928), (234, 0.05127125609871469), (192, 0.051181004408276574), (190, 0.05111890934919378), (920, 0.05100658764903749), (440, 0.05097106810207752), (301, 0.05084380829839643), (315, 0.05080229114005805), (756, 0.05079487874044166), (575, 0.050729390276632834), (319, 0.05050840895726024), (549, 0.05049683062481209), (114, 0.05038868639585467), (926, 0.050243749100180486), (364, 0.050064456841317384), (951, 0.04998536554210455), (360, 0.04997491791221057), (377, 0.049951587898851235), (872, 0.0498862261812473), (519, 0.04984634168195051), (55, 0.049734576066411997), (128, 0.0496286134376981), (783, 0.04958593835893571), (623, 0.04952419125681466), (376, 0.04948912123899027), (158, 0.049403105084036815), (597, 0.049361688095405774), (333, 0.049277062227651096), (291, 0.04920645376350188), (363, 0.04893797012968786), (78, 0.04893460309967645), (342, 0.04890922997916236), (497, 0.048890569346238276), (353, 0.04886407105906386), (139, 0.04868876675015682), (736, 0.048629895189192605), (89, 0.04860279208342688), (202, 0.048542813802771555), (225, 0.04840505792263999), (748, 0.0483289967133121), (633, 0.048314648314085766), (348, 0.0482822103820524), (753, 0.04826327506691258), (660, 0.04816415904299359), (48, 0.04814349734472237), (490, 0.04809476863853037), (532, 0.0480598994205407), (43, 0.04803623427217857), (207, 0.04796522756312511), (768, 0.047880702863119684), (74, 0.04780619131624547), (209, 0.04766519601978382), (846, 0.04766347820303907), (104, 0.04761030358706516), (772, 0.04753509806170475), (718, 0.04748127754510613), (721, 0.047462536985723815), (224, 0.047282031921674114), (336, 0.04719145469690441), (590, 0.0471129310526701), (667, 0.04707923907141689), (326, 0.046782901138415545), (125, 0.04667874571030409), (868, 0.04665718516080753), (656, 0.04647503128094947), (22, 0.04643473113657672), (343, 0.04633219143076284), (547, 0.046183136931204356), (136, 0.045890349162175985), (241, 0.04582487920631867), (805, 0.04565857050210118), (1, 0.045450151828962955), (577, 0.04544270885781422), (254, 0.04536398748866281), (541, 0.045318521748973765), (593, 0.045278136094351745), (499, 0.04520575995375421), (450, 0.04510161015100389), (270, 0.04509591073740592), (295, 0.04503372305627018), (693, 0.04500902832375039), (146, 0.044925946343066146), (668, 0.04486791420770281), (650, 0.044767083289623005), (968, 0.044739202679066066), (829, 0.0447004475027471), (724, 0.04468276319884074), (70, 0.04467695217852138), (268, 0.04430006247394437), (0, 0.04425881960054167), (233, 0.044218861076040034), (93, 0.04420917260499861), (904, 0.04411702930798823), (218, 0.04405998198706797), (299, 0.04394547800141828), (566, 0.043939475817059356), (340, 0.043858068608102575), (618, 0.04369228325017744), (41, 0.04365755296152854), (481, 0.04363868567933343), (879, 0.043628783205789695), (357, 0.043582726285344646), (937, 0.04356709047053442), (288, 0.04352893329079017), (925, 0.043327927811905455), (535, 0.04327924689939869), (306, 0.04323351188300989), (460, 0.043213608301621596), (196, 0.04319617385243049), (934, 0.04317498197191861), (619, 0.04313471908673917), (406, 0.043000106883826744), (520, 0.04294459129144094), (247, 0.042836358384045335), (598, 0.04271272549408606), (883, 0.042628360224845896), (776, 0.04247896916276143), (526, 0.04245322091159655), (929, 0.04241383962623294), (605, 0.0423642974236719), (201, 0.042362311968438385), (834, 0.04235430562786176), (679, 0.042262417748503735), (325, 0.04207003629040625), (938, 0.04202271893098944), (950, 0.041786526244020336), (747, 0.041771234545201166), (293, 0.04175052149561199), (228, 0.04166002434834787), (844, 0.04160904828262584), (793, 0.04159201765162248), (498, 0.04148637114504635), (475, 0.041440829970215406), (762, 0.0414220701206786), (516, 0.04131335999251604), (739, 0.04128088057103115), (912, 0.04127153706788422), (710, 0.04126592998537434), (264, 0.04110401559797957), (294, 0.04099485740867275), (555, 0.04098690819658692), (242, 0.04097559758813987), (852, 0.040867846075684326), (624, 0.040864254138619466), (296, 0.040775547689500265), (589, 0.04074310331613263), (798, 0.04072992885498158), (422, 0.04069109160481725), (988, 0.040685248746216984), (874, 0.04066080088297716), (644, 0.04065478148298132), (742, 0.040651820654613105), (558, 0.040633115582088736), (123, 0.04055995134884868), (585, 0.040495258983550435), (643, 0.04038901957818814), (559, 0.04038702561739951), (162, 0.040329268124713075), (150, 0.04030550350781485), (413, 0.040272348543773206), (138, 0.040259192982776346), (166, 0.04024724963019772), (284, 0.040234083235279355), (259, 0.040204716310570085), (429, 0.040135573166693035), (387, 0.04011611595850549), (324, 0.04011157483562426), (267, 0.04006025583438433), (701, 0.03997896319437565), (508, 0.039939813872818544), (427, 0.03989309042628471), (231, 0.03976260506745083), (11, 0.039740516684689906), (858, 0.03973068161450311), (856, 0.03967256363256583), (707, 0.03958175801211631), (700, 0.03956970697296108), (391, 0.03955507112760108), (214, 0.039424429995686176), (725, 0.039360986890883465), (279, 0.039329363301889506), (521, 0.03930437584909891), (468, 0.03924550625006775), (310, 0.0391591777268014), (594, 0.03910442128986909), (260, 0.039081490455221836), (261, 0.03899606715976777), (840, 0.038968002781431796), (318, 0.03892977364795874), (853, 0.03889868545992055), (441, 0.038875229218310964), (830, 0.038744709814399016), (212, 0.03872360886280175), (867, 0.038690813095130144), (99, 0.03867556635580234), (562, 0.03863115515436818), (479, 0.038497461829827447), (967, 0.038382349666595254), (101, 0.038275380686035906), (991, 0.038186591083983965), (170, 0.03817858912868052), (352, 0.038154442330348745), (699, 0.038117401292417426), (161, 0.03804864897572346), (219, 0.03782024864307988), (572, 0.03778691238101731), (661, 0.037783195054809184), (461, 0.037769335123131006), (194, 0.03774829840668307), (785, 0.03763945309647614), (112, 0.037608148778839806), (244, 0.03759806214528272), (15, 0.03758445619142756), (875, 0.037301458778878686), (205, 0.037286041490316287), (289, 0.03719567539068491), (198, 0.037167738516429155), (871, 0.037132152837758406), (144, 0.03708422060479401), (517, 0.03701168230674345), (770, 0.03698963634037825), (494, 0.036969489058614254), (774, 0.03695752846496753), (7, 0.03692562781379106), (349, 0.036891358745192414), (553, 0.03687699237903061), (177, 0.03687688644326198), (889, 0.0368647541600939), (94, 0.03677725606341173), (361, 0.03677708532673676), (806, 0.03676566718808265), (355, 0.03675220717833745), (787, 0.03675108400753511), (471, 0.03670014918843819), (957, 0.03666820110262111), (341, 0.03666768291593232), (911, 0.03663918204302639), (215, 0.03662159565254604), (455, 0.03659327299588377), (876, 0.036550331299758085), (448, 0.03648613599945571), (996, 0.03635680355354676), (530, 0.036350026021199), (153, 0.03634600309405889), (545, 0.03634520996171009), (540, 0.0363372474502063), (680, 0.03630060971535001), (407, 0.03629477052236123), (733, 0.036218814318790045), (245, 0.036071995363627776), (632, 0.036056795634556674), (863, 0.035940555821737406), (913, 0.035911106435409304), (126, 0.035861102091923246), (403, 0.03573917019047052), (689, 0.035732460739139375), (602, 0.03570337932356597), (500, 0.03564097223396521), (29, 0.035550360901519806), (758, 0.03554729542923137), (895, 0.0354910656517955), (890, 0.03548589288705341), (16, 0.0354633587324231), (307, 0.03545356619111127), (474, 0.0354422949656803), (5, 0.035388978757614056), (183, 0.03536109781058462), (258, 0.03533838042864694), (98, 0.03533103688501644), (513, 0.035264678613813646), (979, 0.035114375601067296), (365, 0.03510863566892465), (621, 0.035097449159909026), (46, 0.03508560318725057), (337, 0.03501864041086667), (817, 0.034932047165835485), (896, 0.03480947539163199), (235, 0.034808096078058424), (563, 0.03480288336543613), (854, 0.03466215611988489), (199, 0.03460243760392957), (943, 0.03449158841521455), (13, 0.03434388426778809), (569, 0.03412375100933554), (132, 0.03406031338726023), (290, 0.03397272907702863), (443, 0.03393045051433286), (737, 0.03386711444372305), (568, 0.03379730820268534), (682, 0.03372954093421749), (613, 0.033702136510091525), (664, 0.03369885933473247), (870, 0.03369536394601686), (869, 0.03355632192533659), (702, 0.03349876704530382), (843, 0.03340826917640667), (106, 0.0334058916760987), (44, 0.03331555312813264), (954, 0.0332573381218158), (383, 0.03312070264928212), (64, 0.033080856609256845), (379, 0.033037128988723734), (767, 0.032955538342173366), (169, 0.03273290932117738), (764, 0.03272998933153356), (804, 0.03267932033305235), (164, 0.032637600926368415), (761, 0.03262692772056808), (213, 0.03262466347206916), (32, 0.03256688465082344), (287, 0.032521610894024194), (67, 0.03246543935138729), (528, 0.03245443479681659), (60, 0.03243179233236891), (958, 0.03236428668887943), (129, 0.032348117158494956), (637, 0.03224149306853801), (87, 0.032208672949736825), (381, 0.032180435633068875), (506, 0.03215346505958171), (836, 0.032122965885850556), (395, 0.03201860417977948), (898, 0.03196476202899984), (714, 0.03193461472070534), (487, 0.03182395162170379), (993, 0.03179205128707944), (720, 0.03177291595642221), (137, 0.031716401959556675), (297, 0.03162869644551865), (436, 0.03159314111871037), (918, 0.03154891686329034), (159, 0.03145430150484556), (21, 0.03144222153065617), (625, 0.03140802376389723), (23, 0.03133392249904536), (722, 0.031332805917009585), (257, 0.03130628531483709), (576, 0.03120424343024274), (176, 0.031199973458875548), (649, 0.031175717790907744), (356, 0.030933723365050216), (716, 0.030878585620541608), (900, 0.03086654840405061), (522, 0.030852653923324518), (888, 0.03082329234674787), (866, 0.030759508142136117), (616, 0.030737080607116034), (232, 0.030705783667996978), (914, 0.030631839345821657), (250, 0.03061884804046961), (103, 0.030558989689253822), (384, 0.030552373780452436), (601, 0.03051357642876644), (465, 0.03050262932055104), (30, 0.030451744923868977), (828, 0.03041786183918631), (117, 0.03031853028108015), (781, 0.030265962573900525), (932, 0.030185432854678205), (551, 0.030137781887855354), (344, 0.03012737894938354), (504, 0.030078575141330947), (181, 0.03001111708412145), (432, 0.029911546215960247), (507, 0.02982432065113407), (72, 0.029763423411048685), (478, 0.029736465460532324), (68, 0.029686820162615767), (588, 0.029609836452194366), (274, 0.02959884123049034), (281, 0.029598264872989433), (83, 0.02956187632998597), (999, 0.029415389799598388), (864, 0.029391307209380137), (120, 0.029358732220859628), (556, 0.029348720344543326), (378, 0.02926526097570186), (277, 0.029242962869745537), (69, 0.029228242392981205), (118, 0.029085196007792493), (653, 0.02907877044995294), (134, 0.029025242169861694), (706, 0.028990378404938094), (628, 0.02897300666854646), (303, 0.02889308422535672), (246, 0.02877204513878319), (794, 0.02867572207489374), (111, 0.028633504919456692), (221, 0.02862325552225), (53, 0.028604336285370298), (808, 0.028526873423753863), (26, 0.02847375427146433), (978, 0.028465638610384744), (351, 0.028396694313364088), (969, 0.02836605980414449), (630, 0.028328075564921843), (385, 0.02830887302515834), (147, 0.028240347254221865), (797, 0.02812546083226487), (329, 0.028063297318869328), (723, 0.028023928893756527), (338, 0.02801728821186584), (65, 0.027980014608111323), (473, 0.027957005595787374), (965, 0.02780714217714115), (641, 0.0277838918587496), (230, 0.02775887868165907), (33, 0.027724194003225806), (946, 0.027655571582053624), (47, 0.02763551895910754), (821, 0.02754464861444062), (565, 0.02750527879488969), (595, 0.027496214807054713), (907, 0.027446031260117687), (109, 0.02731639065987778), (949, 0.02730995484184278), (272, 0.027260310093988892), (814, 0.027248741832743006), (354, 0.027221260786481183), (37, 0.02719262382123367), (933, 0.027170227543370104), (369, 0.027108414131253915), (634, 0.027004003456269417), (283, 0.026923824124772427), (73, 0.026815471389862355), (388, 0.02679790068388028), (444, 0.026655820780058525), (424, 0.02660215051039841), (681, 0.026592634740377135), (801, 0.02654354432824821), (663, 0.026425390031289853), (984, 0.026305856967269267), (327, 0.02617625781900918), (944, 0.026175187099568745), (38, 0.02614609621274463), (51, 0.026055180833934787), (398, 0.026005086175704576), (113, 0.025992158586579744), (655, 0.025970218442798544), (812, 0.025825630769120703), (425, 0.025600778640435327), (36, 0.02557468495614954), (248, 0.025506823471103647), (827, 0.025500198142113243), (27, 0.025494048100835744), (847, 0.025482639041913804), (603, 0.025351153569448982), (300, 0.02533846654831073), (372, 0.025056792771478084), (305, 0.024872612339567376), (640, 0.024868944677347928), (695, 0.02472778475630573), (182, 0.02465178896584288), (617, 0.024632538006453344), (627, 0.02438703863580203), (512, 0.024370206910513822), (61, 0.0243228110993217), (807, 0.024281342860832986), (838, 0.024241941219745246), (789, 0.024212469230431067), (769, 0.023997904644941018), (331, 0.023960933669853364), (534, 0.023875687173187787), (463, 0.02380157741838526), (393, 0.023778593425969607), (962, 0.023774078036921213), (180, 0.023694272540853985), (626, 0.023675489926272355), (262, 0.023593677955847225), (178, 0.023488075588929215), (77, 0.02343753152954251), (611, 0.023412633207765543), (368, 0.023328609637049823), (200, 0.023296140365705), (186, 0.023280651302568355), (956, 0.02323500926193048), (849, 0.02314438251122098), (243, 0.023135739166976668), (892, 0.022850208842879118), (922, 0.02269490464955456), (165, 0.02261970043112655), (316, 0.0225459644904748), (56, 0.022539921243558914), (818, 0.022385338433998887), (823, 0.022326440850089994), (989, 0.02223881943066167), (684, 0.022162749551218063), (502, 0.022118332600317703), (188, 0.022001787523846367), (80, 0.021982108193813354), (778, 0.02190387176270779), (981, 0.02189508228975523), (734, 0.021739178877839195), (740, 0.021699342490268853), (346, 0.021636627691431848), (980, 0.021583947172801335), (802, 0.021426052905175953), (17, 0.021379869455621654), (612, 0.02136715098255766), (894, 0.021344414650722822), (515, 0.02118936210212664), (671, 0.02112462336643032), (608, 0.021108030760700412), (760, 0.021100173291561074), (881, 0.02103080014756169), (704, 0.02093152994001922), (373, 0.020773381467042884), (822, 0.020739711042465005), (973, 0.02064977574643712), (311, 0.020648446396537852), (79, 0.020623159915750745), (410, 0.020508498011787002), (438, 0.020420787970880046), (167, 0.019995564216771868), (691, 0.01998013095047007), (741, 0.019806038938076132), (666, 0.019799965872713307), (579, 0.019729856871405292), (191, 0.019694214236224562), (423, 0.01965714830654693), (941, 0.01949140462087105), (970, 0.01945776727425967), (91, 0.019111324184070515), (587, 0.01900248822579837), (901, 0.01889649097381944), (533, 0.018865649449530744), (173, 0.018712794672427365), (820, 0.018688587634315846), (732, 0.018638288638657755), (974, 0.018570422659572455), (877, 0.018532387889667403), (686, 0.01850330242195685), (501, 0.018435140457160284), (560, 0.018425288077051977), (467, 0.018369734491089546), (477, 0.018255539078863434), (382, 0.018060379041431072), (347, 0.018059739601113765), (523, 0.01798065921262243), (35, 0.017936340530728626), (750, 0.017812485821402095), (97, 0.01781043014418155), (839, 0.017798797642697813), (665, 0.017791227590781937), (229, 0.01766809435567366), (845, 0.017561008977122823), (658, 0.017259149637543426), (84, 0.01717944125163324), (554, 0.016887016182804013), (143, 0.016770338443585477), (6, 0.016667287111676726), (669, 0.016609088782280526), (457, 0.016586845247800817), (389, 0.0165785651692183), (25, 0.01654497660223469), (731, 0.016532458093622363), (49, 0.01641741350082702), (116, 0.016409558380378383), (445, 0.01629093640305778), (885, 0.016282089827474217), (492, 0.016053781575518553), (472, 0.015839478555202624), (265, 0.015777329338225517), (803, 0.01575279246700704), (987, 0.01574013751006738), (275, 0.01572699379976569), (374, 0.01571512260908148), (538, 0.01570923303443026), (831, 0.015578254247760872), (489, 0.015520609588766903), (985, 0.015392784189483623), (236, 0.015234165724959808), (350, 0.015090623456160758), (816, 0.014966102559968268), (127, 0.014916156969605913), (567, 0.014784560657123847), (647, 0.014279704734898133), (751, 0.014151006656112249), (786, 0.013985293005790548), (282, 0.013965332817112625), (9, 0.013961252304717023), (694, 0.01395297109916967), (466, 0.013849719877252836), (145, 0.013771818735909571), (690, 0.013657608779517617), (908, 0.013653117248149686), (948, 0.013644433413870255), (698, 0.013568375767893097), (880, 0.01345799801596921), (544, 0.01343300546721597), (509, 0.013358933286757108), (966, 0.01334587345944556), (548, 0.013338708642959489), (928, 0.013294312123646325), (754, 0.013109513617181821), (420, 0.012975697586752027), (615, 0.012930683826664584), (580, 0.012771141131006868), (100, 0.012741411820842402), (203, 0.01271911354563783), (334, 0.012645237816208493), (692, 0.012601835536628789), (851, 0.012596978229698998), (24, 0.012455101559875791), (796, 0.012075800736658631), (777, 0.012062536898099269), (832, 0.012023991549249331), (417, 0.011930171575275789), (400, 0.011597162708130037), (321, 0.011469355830861956), (462, 0.011364410745989444), (596, 0.011287593206012584), (673, 0.011156270751523964), (263, 0.010863814625647256), (195, 0.01085611813359146), (654, 0.010725562093955174), (574, 0.010616077039080964), (85, 0.010565395671546428), (815, 0.010349207725217633), (206, 0.010216760013424472), (782, 0.010078429021041042), (711, 0.009974913479049368), (217, 0.009805420339662856), (227, 0.009778356413047994), (809, 0.009503803855155467), (133, 0.009456932940253612), (697, 0.009338336720416205), (906, 0.00928039722398806), (189, 0.009041344358397624), (857, 0.008802070688127269), (591, 0.008767567222044257), (298, 0.008276384584794618), (493, 0.008047017406777185), (645, 0.007931075811893031), (971, 0.007143540780763408), (419, 0.006900093901481589), (648, 0.006411221158572464), (882, 0.0060976192779036925), (543, 0.005932029541703622), (486, 0.005734813634810187), (155, 0.005180486953184812), (285, 0.005143500404724068), (584, 0.004516861358523072), (542, 0.0031625583937544104), (442, 0.0031342104594748567), (662, 0.0030151890014247828), (328, 0.0028192647078622087), (193, 0.002756642882461411), (449, 0.0026365937692801773), (63, 0.0025809973196966366), (606, 0.0024679398058709257), (31, 0.0), (222, 0.0), (524, 0.0), (536, 0.0), (743, 0.0), (757, 0.0), (924, 0.0), (963, 0.0)]\n"
     ]
    }
   ],
   "source": [
    "# sorting movies based on their cosine similarity scores \n",
    "converted_similarities_dict = dict(similarities)\n",
    "sorted_movies = sorted(converted_similarities_dict.items(), key = lambda x:x[1], reverse = True)\n",
    "print(sorted_movies)"
   ]
  },
  {
   "cell_type": "markdown",
   "id": "03f2e671",
   "metadata": {},
   "source": [
    "* And finally, top 10 and then 30 similar movies are presented to the user:"
   ]
  },
  {
   "cell_type": "code",
   "execution_count": 26,
   "id": "e87a4557",
   "metadata": {},
   "outputs": [
    {
     "name": "stdout",
     "output_type": "stream",
     "text": [
      "Here are the top 10 suggested movies for you: \n",
      "\n",
      "1 . The Hangover\n",
      "2 . Pandorum\n",
      "3 . Horrible Bosses\n",
      "4 . 10 Years\n",
      "5 . Project X\n",
      "6 . Office Christmas Party\n",
      "7 . Sex Tape\n",
      "8 . Knight of Cups\n",
      "9 . Mike and Dave Need Wedding Dates\n",
      "10 . One Day\n"
     ]
    }
   ],
   "source": [
    "print('Here are the top 10 suggested movies for you: \\n')\n",
    "i = 1\n",
    "for movie in sorted_movies:\n",
    "    index = movie[0]\n",
    "    title_from_index = data[data.index==index]['Title'].values[0]\n",
    "    if (i<11):\n",
    "        print (i, '.' ,title_from_index)\n",
    "        i += 1"
   ]
  },
  {
   "cell_type": "code",
   "execution_count": 27,
   "id": "b76a41c5",
   "metadata": {},
   "outputs": [
    {
     "name": "stdout",
     "output_type": "stream",
     "text": [
      "Here are the top 30 suggested movies for you: \n",
      "\n",
      "1 . The Hangover\n",
      "2 . Pandorum\n",
      "3 . Horrible Bosses\n",
      "4 . 10 Years\n",
      "5 . Project X\n",
      "6 . Office Christmas Party\n",
      "7 . Sex Tape\n",
      "8 . Knight of Cups\n",
      "9 . Mike and Dave Need Wedding Dates\n",
      "10 . One Day\n",
      "11 . Sisters\n",
      "12 . Before We Go\n",
      "13 . No Strings Attached\n",
      "14 . The Bourne Legacy\n",
      "15 . Hardcore Henry\n",
      "16 . PK\n",
      "17 . 3 Idiots\n",
      "18 . Scouts Guide to the Zombie Apocalypse\n",
      "19 . The Break-Up\n",
      "20 . My Big Fat Greek Wedding 2\n",
      "21 . Knocked Up\n",
      "22 . The Do-Over\n",
      "23 . The Kings of Summer\n",
      "24 . The Loft\n",
      "25 . Lady in the Water\n",
      "26 . The Lobster\n",
      "27 . The Guest\n",
      "28 . Search Party\n",
      "29 . Percy Jackson: Sea of Monsters\n",
      "30 . Magic Mike\n"
     ]
    }
   ],
   "source": [
    "print('Here are the top 30 suggested movies for you: \\n')\n",
    "\n",
    "i = 1\n",
    "for movie in sorted_movies:\n",
    "    index = movie[0]\n",
    "    title_from_index = data[data.index == index]['Title'].values\n",
    "    if len(title_from_index) > 0:  # add this check to prevent \"index out of bounds\" error\n",
    "        title_from_index = title_from_index[0]\n",
    "        if i < 31:\n",
    "            print(i, '.', title_from_index)\n",
    "            i += 1\n",
    "        else:\n",
    "            break\n"
   ]
  },
  {
   "cell_type": "markdown",
   "id": "f5f04d67",
   "metadata": {},
   "source": [
    "# Conclusion\n",
    "\n",
    "This project was all about an implementation of a content-based recommendation system using a dataset from IMDB. The system provided movie recommendations based on similar genres, descriptions, and titles to the user's input."
   ]
  }
 ],
 "metadata": {
  "kernelspec": {
   "display_name": "Python 3 (ipykernel)",
   "language": "python",
   "name": "python3"
  },
  "language_info": {
   "codemirror_mode": {
    "name": "ipython",
    "version": 3
   },
   "file_extension": ".py",
   "mimetype": "text/x-python",
   "name": "python",
   "nbconvert_exporter": "python",
   "pygments_lexer": "ipython3",
   "version": "3.11.2"
  }
 },
 "nbformat": 4,
 "nbformat_minor": 5
}
